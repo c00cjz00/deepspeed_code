{
 "cells": [
  {
   "cell_type": "code",
   "execution_count": null,
   "id": "8f9df29f-ba07-4131-bc39-b7698ba1d61a",
   "metadata": {
    "tags": []
   },
   "outputs": [],
   "source": [
    "import os\n",
    "from pathlib import Path\n",
    "HOME = str(Path.home())\n",
    "Add_Binarry_Path=HOME+'/.local/bin'\n",
    "os.environ['PATH']=os.environ['PATH']+':'+Add_Binarry_Path\n",
    "current_foldr=!pwd\n",
    "current_foldr=current_foldr[0]\n",
    "current_foldr"
   ]
  },
  {
   "cell_type": "code",
   "execution_count": null,
   "id": "1d2db417-2c39-4845-bcd2-38b666699f7d",
   "metadata": {
    "tags": []
   },
   "outputs": [],
   "source": [
    "!nvidia-smi\n",
    "import torch\n",
    "torch.cuda.is_available()"
   ]
  },
  {
   "cell_type": "code",
   "execution_count": null,
   "id": "d46501a7-1810-47f1-b1fe-8c2023af2360",
   "metadata": {
    "tags": []
   },
   "outputs": [],
   "source": [
    "!git clone https://github.com/hiyouga/LLaMA-Factory.git"
   ]
  },
  {
   "cell_type": "code",
   "execution_count": null,
   "id": "c64a43fc-028f-4916-b010-8419dd43e9dc",
   "metadata": {
    "tags": []
   },
   "outputs": [],
   "source": [
    "%%bash\n",
    "pip install tiktoken\n",
    "pip install deepspeed\n",
    "cd LLaMA-Factory\n",
    "pip install -r requirements.txt"
   ]
  },
  {
   "cell_type": "markdown",
   "id": "9ca64787-878e-4c5f-9b53-2590d91bacf5",
   "metadata": {
    "tags": []
   },
   "source": [
    "### 目前我們支援alpaca或sharegpt格式的資料集，alpaca格式的資料集應遵循以下格式：\n",
    "```\n",
    "[\n",
    "  {\n",
    "    \"instruction\": \"user instruction (required)\",\n",
    "    \"input\": \"user input (optional)\",\n",
    "    \"output\": \"model response (required)\",\n",
    "    \"system\": \"system prompt (optional)\",\n",
    "    \"history\": [\n",
    "      [\"user instruction in the first round (optional)\", \"model response in the first round (optional)\"],\n",
    "      [\"user instruction in the second round (optional)\", \"model response in the second round (optional)\"]\n",
    "    ]\n",
    "  }\n",
    "]\n",
    "```\n",
    "\n",
    "### 對於上面的資料集，columnsindataset_info.json應該是：\n",
    "```\n",
    "\"dataset_name\": {\n",
    "  \"columns\": {\n",
    "    \"prompt\": \"instruction\",\n",
    "    \"query\": \"input\",\n",
    "    \"response\": \"output\",\n",
    "    \"system\": \"system\",\n",
    "    \"history\": \"history\"\n",
    "  }\n",
    "}\n",
    "```\n",
    ">該query列將與該列連接prompt並用作用戶提示，則用戶提示將為prompt\\nquery。該response列代表模型響應。\n",
    "該system列將用作系統提示符。該history列是一個列表，由表示歷史記錄中的提示-響應對的字串元組組成。請注意，歷史記錄中的反應也將用於訓練。\n",
    "對於預訓練資料集，僅prompt使用該列進行訓練。\n",
    "\n",
    "### 對於偏好資料集，該response列應該是長度為 2 的字串列表，首選答案首先出現，例如：\n",
    "```\n",
    "{\n",
    "  \"instruction\": \"user instruction\",\n",
    "  \"input\": \"user input\",\n",
    "  \"output\": [\n",
    "    \"chosen answer\",\n",
    "    \"rejected answer\"\n",
    "  ]\n",
    "}\n",
    "```"
   ]
  },
  {
   "cell_type": "markdown",
   "id": "9eed520c-492c-4aa9-a18b-16ff66e7c272",
   "metadata": {},
   "source": [
    "### ASK GPT to write a pytohn code   xlsx2jsonl.py\n",
    "```\n",
    "Write a python file for me. using openpyxl. input file name is MedQA2019.xlsx\n",
    "Step1: The input file is .xlsx. Exact the column A and column D in the sheet named \"DrugQA\" .\n",
    "Step2: Put each value in column A into each \"instruction\" of each \"conversation\". Put each value in column D into each \"output\" of each \"conversation\".\n",
    "Step3: The output file is MedQA2019.json. It looks like:\n",
    "[\n",
    "  {\n",
    "    \"instruction\": \"xxx\",\n",
    "    \"input\": \"xxx\",\n",
    "    \"output\": \"xxx\",\n",
    "    \"system\": \"xxx\",\n",
    "  }\n",
    "]\n",
    "\n",
    "Step4: All \"system\" value changes to \"You are a professional, highly experienced doctor professor. You always provide accurate, comprehensive, and detailed answers based on the patients' questions.\"\n",
    "```"
   ]
  },
  {
   "cell_type": "code",
   "execution_count": null,
   "id": "66f6109c-1fb7-4676-ad0a-b86f9790b86a",
   "metadata": {},
   "outputs": [],
   "source": [
    "pip install openpyxl"
   ]
  },
  {
   "cell_type": "code",
   "execution_count": null,
   "id": "70f6ae02-03af-455b-a1d9-bda3339af1b1",
   "metadata": {
    "tags": []
   },
   "outputs": [],
   "source": [
    "## GPT CODE\n",
    "import openpyxl\n",
    "import json\n",
    "\n",
    "# Step 1: Extract columns A and D from the sheet named \"DrugQA\"\n",
    "def extract_data_from_excel(file_name):\n",
    "    workbook = openpyxl.load_workbook(file_name)\n",
    "    sheet = workbook['DrugQA']\n",
    "    \n",
    "    instructions = [cell.value for cell in sheet['A']]\n",
    "    outputs = [cell.value for cell in sheet['D']]\n",
    "    \n",
    "    workbook.close()\n",
    "    \n",
    "    return instructions, outputs\n",
    "\n",
    "# Step 2: Create conversation objects\n",
    "def create_conversations(instructions, outputs):\n",
    "    conversations = []\n",
    "    for instruction, output in zip(instructions, outputs):\n",
    "        conversation = {\n",
    "            \"instruction\": instruction,\n",
    "            \"input\": \"\",\n",
    "            \"output\": output,\n",
    "            \"system\": \"\"  # Will be updated in Step 4\n",
    "        }\n",
    "        conversations.append(conversation)\n",
    "    return conversations\n",
    "\n",
    "# Step 3: Write conversations to JSON file\n",
    "def write_to_json(conversations, output_file):\n",
    "    with open(output_file, 'w') as f:\n",
    "        json.dump(conversations, f, indent=2)\n",
    "\n",
    "# Step 4: Update system values\n",
    "def update_system_values(conversations):\n",
    "    for conversation in conversations:\n",
    "        conversation[\"system\"] = \"You are a professional, highly experienced doctor professor. You always provide accurate, comprehensive, and detailed answers based on the patients' questions.\"\n",
    "\n",
    "# Main function to orchestrate the process\n",
    "def main(input_file, output_file):\n",
    "    instructions, outputs = extract_data_from_excel(input_file)\n",
    "    conversations = create_conversations(instructions, outputs)\n",
    "    update_system_values(conversations)\n",
    "    write_to_json(conversations, output_file)\n",
    "\n",
    "if __name__ == \"__main__\":\n",
    "    input_file = \"MedQA2019.xlsx\"\n",
    "    output_file = \"MedQA2019.json\"\n",
    "    main(input_file, output_file)\n"
   ]
  },
  {
   "cell_type": "markdown",
   "id": "0700460d-e292-420b-9257-17f1e8dd6474",
   "metadata": {},
   "source": [
    "### ASK GPT AGAIGN\n",
    "- ask GPT\n",
    "```\n",
    "my MedQA2019.json file looks like:\n",
    "[\n",
    "  {\n",
    "    \"instruction\": \"xxx\",\n",
    "    \"input\": \"xxx\",\n",
    "    \"output\": \"xxx\",\n",
    "    \"system\": \"xxx\",\n",
    "  },\n",
    "  {\n",
    "    \"instruction\": \"xxx\",\n",
    "    \"input\": \"xxx\",\n",
    "    \"output\": \"xxx\",\n",
    "    \"system\": \"xxx\",\n",
    "  }\n",
    "]\n",
    "Step1, read the MedQA2019.json file.\n",
    "Step2, count the amount of the \"instruction\" elements.\n",
    "Step3, randomly split all \"instruction\" elements by 7:3. Targeted structure is same as the input.\n",
    "Step4, save the 7/10 part as MedQA2019_train.json. save the 3/10 part as MedQA2019_test.json\n",
    "```"
   ]
  },
  {
   "cell_type": "code",
   "execution_count": null,
   "id": "66ae1100-d408-4f79-9925-d961af3507d4",
   "metadata": {
    "tags": []
   },
   "outputs": [],
   "source": [
    "import json\n",
    "import random\n",
    "\n",
    "# Step 1: Read MedQA2019.json file\n",
    "def read_json(file_name):\n",
    "    with open(file_name, 'r') as f:\n",
    "        data = json.load(f)\n",
    "    return data\n",
    "\n",
    "# Step 2: Count the amount of \"instruction\" elements\n",
    "def count_instructions(data):\n",
    "    return len(data)\n",
    "\n",
    "# Step 3: Randomly split \"instruction\" elements by 7:3\n",
    "def split_data(data):\n",
    "    random.shuffle(data)\n",
    "    split_index = int(len(data) * 0.7)\n",
    "    train_data = data[:split_index]\n",
    "    test_data = data[split_index:]\n",
    "    return train_data, test_data\n",
    "\n",
    "# Step 4: Save the split data into train.json and test.json\n",
    "def save_to_json(train_data, test_data):\n",
    "    with open('MedQA2019_train.json', 'w') as train_file:\n",
    "        json.dump(train_data, train_file, indent=2)\n",
    "    with open('MedQA2019_test.json', 'w') as test_file:\n",
    "        json.dump(test_data, test_file, indent=2)\n",
    "\n",
    "# Main function to orchestrate the process\n",
    "def main(input_file):\n",
    "    data = read_json(input_file)\n",
    "    total_instructions = count_instructions(data)\n",
    "    print(\"Total number of instructions:\", total_instructions)\n",
    "    train_data, test_data = split_data(data)\n",
    "    print(\"Number of instructions in MedQA2019_train.json:\", len(train_data))\n",
    "    print(\"Number of instructions in MedQA2019_test.json:\", len(test_data))\n",
    "    save_to_json(train_data, test_data)\n",
    "\n",
    "if __name__ == \"__main__\":\n",
    "    input_file = \"MedQA2019.json\"\n",
    "    main(input_file)"
   ]
  },
  {
   "cell_type": "markdown",
   "id": "5c3e7721-3c0d-4e75-b6bf-2f4700e5b91e",
   "metadata": {},
   "source": [
    "### dataset_info.json (LLaMA-Factory/data/dataset_info.json)\n",
    "Regarding the above dataset, the columns in dataset_info.json should be:\n",
    "```\n",
    "\"dataset_name\": {\n",
    "  \"columns\": {\n",
    "    \"prompt\": \"instruction\",\n",
    "    \"query\": \"input\",\n",
    "    \"response\": \"output\",\n",
    "    \"system\": \"system\",\n",
    "    \"history\": \"history\"\n",
    "  }\n",
    "}\n",
    "```\n",
    "\n",
    "\n",
    "```\n",
    "  \"medical\": {\n",
    "    \"file_name\": \"MedQA2019_train.json\",\n",
    "    \"columns\": {\n",
    "      \"prompt\": \"instruction\",\n",
    "      \"query\": \"input\",\n",
    "      \"response\": \"output\",\n",
    "      \"system\": \"system\",        \n",
    "    }\n",
    "  },   \n",
    "```"
   ]
  },
  {
   "cell_type": "code",
   "execution_count": null,
   "id": "f955b080-4913-4c31-9e87-32fe3c06050f",
   "metadata": {
    "tags": []
   },
   "outputs": [],
   "source": [
    "!sha1sum LLaMA-Factory/data/MedQA2019_train.json"
   ]
  },
  {
   "cell_type": "code",
   "execution_count": null,
   "id": "0b466ecb-c8a2-462b-9a97-499807d5af36",
   "metadata": {
    "tags": []
   },
   "outputs": [],
   "source": [
    "## DTAT2"
   ]
  },
  {
   "cell_type": "markdown",
   "id": "2719d53c-c572-47a5-9dbe-5fe1db8bb077",
   "metadata": {
    "tags": []
   },
   "source": [
    "### ASK GPT to write a pytohn code   xlsx2jsonl.py\n",
    "```\n",
    "Write a python file for me. using openpyxl\n",
    "\n",
    "1. 我有一個文件input.josn，每一行的格式為JSON格式，如下所示：\n",
    "{\"name\": \"西班牙鮪魚沙拉\", \"dish\": \"鮪魚沙拉\", \"description\": \"\", \"recipeIngredient\": [\"超市罐頭半盒鮪魚(泉水)\", \"2大片生菜」, \"5個小番茄\", \"半根黃瓜\", \"半紅柿椒\", \"半個紫洋蔥\", \"1個七成熟水煮蛋\", \"遠程紅酒醋\", \"遠程胡椒\" \"， \"橄欖油\"]，\"食譜說明\"：[\"雞蛋進水煮，七成熟撈出（依個人喜好），同時備其他菜\"，\"生菜撕片，女果開半，黃瓜滾刀，紅柿椒切絲，紫洋蔥切絲，雞蛋四均分\"，\"金槍魚去水\"，\"撒黑胡椒，紅酒醋和少許橄欖油\"，\"拌勻，拍照，開動\"]，\"作者\" : \"author_67696 \", \"keywords\": [\"西班牙鮪魚沙拉的做法\", \"西班牙鮪魚沙拉的家常做法\", \"西班牙鮪魚沙拉的詳細做法\", \"西班牙鮪魚沙拉怎麼做\", \"西班牙鮪魚沙拉的最正宗做法\" , \"沙拉\"]}\n",
    "2. 我需要產生一個以下為範本格式的json文件：\n",
    "[\n",
    "  {\n",
    "    \"instruction\": \"xxx\",\n",
    "    \"input\": \"xxx\",\n",
    "    \"output\": \"xxx\",\n",
    "    \"system\": \"xxx\",\n",
    "  }\n",
    "]\n",
    "3. instruction 取自將原有JSON格式中 keywords 中的任何一個\n",
    "4. input 為空白\n",
    "5. output 將原有JSON格式中的 recipeIngredient 和 recipeInstructions 组合起来，描述成：\n",
    "您需要準備以下食材：\n",
    "recipeIngredient\n",
    "按以下方法製作：\n",
    "recipeInstructions\n",
    "6. 如果原有JSON格式中 keywords 有多少筆，則產生多條JSON記錄\n",
    "7. 使用openpyxl库。生成好Python脚本给我。\n",
    "8. 輸出的檔案名稱為 output.josn\n",
    "```"
   ]
  },
  {
   "cell_type": "markdown",
   "id": "9fa5f0ab-0cd9-4de7-a368-f40d7f972645",
   "metadata": {},
   "source": [
    "### ASK GPT to write a pytohn code   xlsx2jsonl.py\n",
    "```\n",
    "Write a python file for me. using openpyxl\n",
    "\n",
    "1. 我有一個文件 input.josn，每一行的格式為JSON格式，如下所示：\n",
    "{\"name\": \"西班牙鮪魚沙拉\", \"dish\": \"鮪魚沙拉\", \"description\": \"\", \"recipeIngredient\": [\"超市罐頭半盒鮪魚(泉水)\", \"2大片生菜」, \"5個小番茄\", \"半根黃瓜\", \"半紅柿椒\", \"半個紫洋蔥\", \"1個七成熟水煮蛋\", \"遠程紅酒醋\", \"遠程胡椒\" \"， \"橄欖油\"]，\"食譜說明\"：[\"雞蛋進水煮，七成熟撈出（依個人喜好），同時備其他菜\"，\"生菜撕片，女果開半，黃瓜滾刀，紅柿椒切絲，紫洋蔥切絲，雞蛋四均分\"，\"金槍魚去水\"，\"撒黑胡椒，紅酒醋和少許橄欖油\"，\"拌勻，拍照，開動\"]，\"作者\" : \"author_67696 \", \"keywords\": [\"西班牙鮪魚沙拉的做法\", \"西班牙鮪魚沙拉的家常做法\", \"西班牙鮪魚沙拉的詳細做法\", \"西班牙鮪魚沙拉怎麼做\", \"西班牙鮪魚沙拉的最正宗做法\" , \"沙拉\"]}\n",
    "2. 我需要產生一個以下為範本格式的json文件：\n",
    "[\n",
    "  {\n",
    "    \"instruction\": \"xxx\",\n",
    "    \"input\": \"xxx\",\n",
    "    \"output\": \"xxx\",\n",
    "    \"system\": \"xxx\",\n",
    "  }\n",
    "]\n",
    "3. instruction 取自將原有JSON格式中 keywords 中的任何一個\n",
    "4. input 為空白\n",
    "5. output 將原有JSON格式中的 recipeIngredient 和 recipeInstructions 组合起来，描述成：\n",
    "您需要準備以下食材：\n",
    "recipeIngredient\n",
    "按以下方法製作：\n",
    "recipeInstructions\n",
    "6. 如果原有JSON格式中 keywords 有多少筆，則產生多條JSON記錄\n",
    "7. 使用openpyxl库。生成好Python脚本给我。\n",
    "8. 輸出的檔案名稱為 output.josn\n",
    "```"
   ]
  },
  {
   "cell_type": "markdown",
   "id": "7a3a98e6-46a9-4166-bee8-43b743d34710",
   "metadata": {},
   "source": [
    "### ASK GPT AGAIGN\n",
    "- ask GPT\n",
    "```\n",
    "Write a python file for me. using openpyxl. input file name is MedQA2019.jsonl\n",
    "\n",
    "my MedQA2019.json file looks like:\n",
    "{\"name\": \"西班牙金枪鱼沙拉\", \"dish\": \"金枪鱼沙拉\", \"description\": \"\", \"recipeIngredient\": [\"超市罐头装半盒金枪鱼(in spring water)\", \"2大片生菜\", \"5个圣女果\", \"半根黄瓜\", \"半个红柿椒\", \"半个紫洋葱\", \"1个七成熟水煮蛋\", \"适量红酒醋\", \"适量胡椒\", \"适量橄榄油\"], \"recipeInstructions\": [\"鸡蛋进水煮，七成熟捞出（依个人喜好），同时备其他菜\", \"生菜撕片，圣女果开半，黄瓜滚刀，红柿椒切丝，紫洋葱切丝，鸡蛋四均分\", \"金枪鱼去水\", \"撒黑胡椒，红酒醋和少许橄榄油\", \"拌匀，拍照，开动\"], \"author\": \"author_67696\", \"keywords\": [\"西班牙金枪鱼沙拉的做法\", \"西班牙金枪鱼沙拉的家常做法\", \"西班牙金枪鱼沙拉的详细做法\", \"西班牙金枪鱼沙拉怎么做\", \"西班牙金枪鱼沙拉的最正宗做法\", \"沙拉\"]}\n",
    "{\"name\": \"红烧滩羊肉\", \"dish\": \"Unknown\", \"description\": \"每到桂花香满城后，就可以吃羊肉温补身体了\", \"recipeIngredient\": [\"1kg羊肉\", \"5片姜\", \"3瓣蒜\", \"适量花椒\", \"3勺老抽\", \"3片香叶\", \"2个八角\", \"1个干辣椒\", \"1块桂皮\", \"2勺料酒\", \"适量盐\", \"3根香菜\", \"2个小洋葱\", \"适量乱泉水\"], \"recipeInstructions\": [\"滩羊肉在姜水里焯3分钟，姜水里加点料酒去腥\", \"再将羊肉反过来焯水2分钟\", \"把羊肉切2/3手掌大小，羊肉煮熟后会缩水，所以可以稍微大一点的\", \"热油里放入花椒、桂皮、香叶、生姜爆炒30秒，放入切好的羊肉翻炒3分钟左右，把羊肉里面的油煸炒出来，再加入老抽上色，把所有羊肉都上色后加入乱泉水，以漠过羊肉上面为准\", \"锅里水烧开后，换成砂锅中火慢炖40分钟\", \"分次吃\", \"超级软糯\", \"加点萝卜进去炖起来，解油腻\"], \"author\": \"author_25682\", \"keywords\": [\"红烧滩羊肉的做法\", \"红烧滩羊肉的家常做法\", \"红烧滩羊肉的详细做法\", \"红烧滩羊肉怎么做\", \"红烧滩羊肉的最正宗做法\"]}\n",
    "\n",
    "Step1, select one keyword of keywords as instruction\n",
    "\n",
    "Step2, keep input empty\n",
    "\n",
    "Step3, output is like string below\n",
    "您需要準備以下食材：\n",
    "recipeIngredient\n",
    "按以下方法製作：\n",
    "recipeInstructions\n",
    "\n",
    "Step4: \"system\" value is \"你是個專業的廚師，你會做很多菜。用戶報上自己所需的菜名後，你可以把做飯所需的原料，以及做飯的方法告訴用戶\"\n",
    "\n",
    "Step5: The output file is out.json. It looks like:\n",
    "[\n",
    "  {\n",
    "    \"instruction\": \"xxx\",\n",
    "    \"input\": \"xxx\",\n",
    "    \"output\": \"xxx\",\n",
    "    \"system\": \"xxx\",\n",
    "  }\n",
    "]\n",
    "```"
   ]
  },
  {
   "cell_type": "code",
   "execution_count": null,
   "id": "1ed5c375-41ce-4610-b1e8-4f36c8ab43b2",
   "metadata": {
    "tags": []
   },
   "outputs": [],
   "source": [
    "import json\n",
    "import openpyxl\n",
    "\n",
    "# Step 1: Select one keyword of keywords as instruction\n",
    "def select_instruction(keywords):\n",
    "    return keywords[0]\n",
    "\n",
    "# Step 2: Keep input empty\n",
    "def keep_input_empty():\n",
    "    return \"\"\n",
    "\n",
    "# Step 3: Generate output string\n",
    "def generate_output(recipe_ingredients, recipe_instructions):\n",
    "    output = \"您需要準備以下食材：\\n\"\n",
    "    output += \"\\n\".join(recipe_ingredients) + \"\\n\"\n",
    "    output += \"按以下方法製作：\\n\"\n",
    "    output += \"\\n\".join(recipe_instructions)\n",
    "    return output\n",
    "\n",
    "# Step 4: Define system value\n",
    "system_value = \"你是個專業的廚師，你會做很多菜。用戶報上自己所需的菜名後，你可以把做飯所需的原料，以及做飯的方法告訴用戶\"\n",
    "\n",
    "# Step 5: Process JSON file and generate output\n",
    "output_data = []\n",
    "with open(\"XiaChuFang_Recipe_Corpus/recipe_corpus_full.json\", \"r\", encoding=\"utf-8\") as file:\n",
    "    for line in file:\n",
    "        recipe_data = json.loads(line)\n",
    "        instruction = select_instruction(recipe_data[\"keywords\"])\n",
    "        input_data = keep_input_empty()\n",
    "        output = generate_output(recipe_data[\"recipeIngredient\"], recipe_data[\"recipeInstructions\"])\n",
    "        output_data.append({\n",
    "            \"instruction\": instruction,\n",
    "            \"input\": input_data,\n",
    "            \"output\": output,\n",
    "            \"system\": system_value\n",
    "        })\n",
    "\n",
    "# Write output to out.json\n",
    "with open(\"out.json\", \"w\", encoding=\"utf-8\") as out_file:\n",
    "    json.dump(output_data, out_file, ensure_ascii=False, indent=2)\n"
   ]
  },
  {
   "cell_type": "code",
   "execution_count": null,
   "id": "fa93626f-c8d2-440d-a827-2662c6fbd6cd",
   "metadata": {},
   "outputs": [],
   "source": []
  },
  {
   "cell_type": "code",
   "execution_count": null,
   "id": "c7624224-1b64-4766-a24a-66974bbde015",
   "metadata": {},
   "outputs": [],
   "source": [
    "## OPENCC"
   ]
  },
  {
   "cell_type": "code",
   "execution_count": null,
   "id": "e096fdcd-b217-44a5-9d1c-c80eb37f030c",
   "metadata": {
    "tags": []
   },
   "outputs": [],
   "source": [
    "!pip install opencc\n",
    "!pip install opencc-python-reimplemented"
   ]
  },
  {
   "cell_type": "code",
   "execution_count": null,
   "id": "f6fbfd99-f31f-4d73-8a56-6fbe3ed9c099",
   "metadata": {
    "tags": []
   },
   "outputs": [],
   "source": [
    "import json\n",
    "from datasets import load_dataset\n",
    "import opencc #繁体简体互转\n",
    "#op_cc=opencc.OpenCC('s2t')\n",
    "op_cc=opencc.OpenCC('s2twp')"
   ]
  },
  {
   "cell_type": "code",
   "execution_count": null,
   "id": "19e62677-0c94-404f-a6e5-e26a17cbe2f7",
   "metadata": {
    "tags": []
   },
   "outputs": [],
   "source": [
    "# 所有資料內容\n",
    "import pandas as pd\n",
    "data = pd. read_json ( 'out.json' )\n",
    "df = pd.DataFrame(data) # 轉成 DataFrame\n",
    "\n",
    "\n",
    "# 提取所需欄位並建立新的字典列表\n",
    "limit=10000\n",
    "extracted_data = []\n",
    "for index, row in df.iterrows():\n",
    "    instruction=row['instruction']\n",
    "    output=row['output']\n",
    "    system=row['system']\n",
    "    extracted_example = {\n",
    "        \"instruction\": op_cc.convert(instruction),\n",
    "        \"input\": \"\",\n",
    "        \"output\": op_cc.convert(output),\n",
    "        \"system\": op_cc.convert(system)\n",
    "    }\n",
    "    extracted_data.append(extracted_example)\n",
    "    if len(extracted_data) == limit:\n",
    "        break\n",
    "\n",
    "# 指定 JSON 文件名稱\n",
    "json_filename = \"data.json\"\n",
    "\n",
    "# 寫入 JSON 文件\n",
    "with open(json_filename, \"w\") as json_file:\n",
    "    json.dump(extracted_data, json_file, indent=4)\n",
    "\n",
    "print(f\"數據已提取並保存為 {json_filename}\")\n",
    "    \n",
    "\n",
    "\n"
   ]
  },
  {
   "cell_type": "code",
   "execution_count": null,
   "id": "62e113e0-d521-4e7d-9ad4-396d84190692",
   "metadata": {
    "tags": []
   },
   "outputs": [],
   "source": [
    "# 所有資料內容\n",
    "import pandas as pd\n",
    "df = pd. read_json ( 'data.json' )\n",
    "df"
   ]
  },
  {
   "cell_type": "raw",
   "id": "09ce7f3b-5a3c-47d2-94b1-ba7b6d77c528",
   "metadata": {},
   "source": [
    "Write a python file for me. using openpyxl. input file name is MedQA2019.jsonl\n",
    "\n",
    "The input file MedQA2019.jsonl looks like:\n",
    "{\"name\": \"xxx\", \"dish\": \"xxx\", \"description\": \"\", \"recipeIngredient\": [\"xxx\", \"xxx\"], \"recipeInstructions\": [\"xxx\", \"xxx\"], \"author\": \"xxx\", \"keywords\": [\"xxx\", \"xxx\"]}\n",
    "\n",
    "Step1, select one keyword of keywords as instruction\n",
    "\n",
    "Step2, input is null\n",
    "\n",
    "Step3, output is like content below\n",
    "您需要準備以下食材：\n",
    "recipeIngredient\n",
    "按以下方法製作：\n",
    "recipeInstructions\n",
    "\n",
    "Step4: \"system\" value is \"你是個專業的廚師，你會做很多菜。用戶報上自己所需的菜名後，你可以把做飯所需的原料，以及做飯的方法告訴用戶\"\n",
    "\n",
    "Step5: The output file is out.json. It looks like:\n",
    "[\n",
    "  {\n",
    "    \"instruction\": \"xxx\",\n",
    "    \"input\": \"xxx\",\n",
    "    \"output\": \"xxx\",\n",
    "    \"system\": \"xxx\",\n",
    "  }\n",
    "]"
   ]
  },
  {
   "cell_type": "code",
   "execution_count": 3,
   "id": "28edb4a2-22d8-4a84-8fab-8bd29b4124b3",
   "metadata": {
    "tags": []
   },
   "outputs": [
    {
     "ename": "JSONDecodeError",
     "evalue": "Expecting value: line 1 column 2 (char 1)",
     "output_type": "error",
     "traceback": [
      "\u001b[0;31m---------------------------------------------------------------------------\u001b[0m",
      "\u001b[0;31mJSONDecodeError\u001b[0m                           Traceback (most recent call last)",
      "Cell \u001b[0;32mIn[3], line 22\u001b[0m\n\u001b[1;32m     20\u001b[0m \u001b[38;5;66;03m# Read input file and process each line\u001b[39;00m\n\u001b[1;32m     21\u001b[0m \u001b[38;5;28;01mwith\u001b[39;00m \u001b[38;5;28mopen\u001b[39m(\u001b[38;5;124m\"\u001b[39m\u001b[38;5;124mMedQA2019.json\u001b[39m\u001b[38;5;124m\"\u001b[39m, \u001b[38;5;124m\"\u001b[39m\u001b[38;5;124mr\u001b[39m\u001b[38;5;124m\"\u001b[39m, encoding\u001b[38;5;241m=\u001b[39m\u001b[38;5;124m\"\u001b[39m\u001b[38;5;124mutf-8\u001b[39m\u001b[38;5;124m\"\u001b[39m) \u001b[38;5;28;01mas\u001b[39;00m f:\n\u001b[0;32m---> 22\u001b[0m     data \u001b[38;5;241m=\u001b[39m [json\u001b[38;5;241m.\u001b[39mloads(line\u001b[38;5;241m.\u001b[39mstrip()) \u001b[38;5;28;01mfor\u001b[39;00m line \u001b[38;5;129;01min\u001b[39;00m f]\n\u001b[1;32m     24\u001b[0m output_data \u001b[38;5;241m=\u001b[39m []\n\u001b[1;32m     26\u001b[0m \u001b[38;5;66;03m# Process each entry in the input data\u001b[39;00m\n",
      "Cell \u001b[0;32mIn[3], line 22\u001b[0m, in \u001b[0;36m<listcomp>\u001b[0;34m(.0)\u001b[0m\n\u001b[1;32m     20\u001b[0m \u001b[38;5;66;03m# Read input file and process each line\u001b[39;00m\n\u001b[1;32m     21\u001b[0m \u001b[38;5;28;01mwith\u001b[39;00m \u001b[38;5;28mopen\u001b[39m(\u001b[38;5;124m\"\u001b[39m\u001b[38;5;124mMedQA2019.json\u001b[39m\u001b[38;5;124m\"\u001b[39m, \u001b[38;5;124m\"\u001b[39m\u001b[38;5;124mr\u001b[39m\u001b[38;5;124m\"\u001b[39m, encoding\u001b[38;5;241m=\u001b[39m\u001b[38;5;124m\"\u001b[39m\u001b[38;5;124mutf-8\u001b[39m\u001b[38;5;124m\"\u001b[39m) \u001b[38;5;28;01mas\u001b[39;00m f:\n\u001b[0;32m---> 22\u001b[0m     data \u001b[38;5;241m=\u001b[39m [\u001b[43mjson\u001b[49m\u001b[38;5;241;43m.\u001b[39;49m\u001b[43mloads\u001b[49m\u001b[43m(\u001b[49m\u001b[43mline\u001b[49m\u001b[38;5;241;43m.\u001b[39;49m\u001b[43mstrip\u001b[49m\u001b[43m(\u001b[49m\u001b[43m)\u001b[49m\u001b[43m)\u001b[49m \u001b[38;5;28;01mfor\u001b[39;00m line \u001b[38;5;129;01min\u001b[39;00m f]\n\u001b[1;32m     24\u001b[0m output_data \u001b[38;5;241m=\u001b[39m []\n\u001b[1;32m     26\u001b[0m \u001b[38;5;66;03m# Process each entry in the input data\u001b[39;00m\n",
      "File \u001b[0;32m/opt/conda/lib/python3.10/json/__init__.py:346\u001b[0m, in \u001b[0;36mloads\u001b[0;34m(s, cls, object_hook, parse_float, parse_int, parse_constant, object_pairs_hook, **kw)\u001b[0m\n\u001b[1;32m    341\u001b[0m     s \u001b[38;5;241m=\u001b[39m s\u001b[38;5;241m.\u001b[39mdecode(detect_encoding(s), \u001b[38;5;124m'\u001b[39m\u001b[38;5;124msurrogatepass\u001b[39m\u001b[38;5;124m'\u001b[39m)\n\u001b[1;32m    343\u001b[0m \u001b[38;5;28;01mif\u001b[39;00m (\u001b[38;5;28mcls\u001b[39m \u001b[38;5;129;01mis\u001b[39;00m \u001b[38;5;28;01mNone\u001b[39;00m \u001b[38;5;129;01mand\u001b[39;00m object_hook \u001b[38;5;129;01mis\u001b[39;00m \u001b[38;5;28;01mNone\u001b[39;00m \u001b[38;5;129;01mand\u001b[39;00m\n\u001b[1;32m    344\u001b[0m         parse_int \u001b[38;5;129;01mis\u001b[39;00m \u001b[38;5;28;01mNone\u001b[39;00m \u001b[38;5;129;01mand\u001b[39;00m parse_float \u001b[38;5;129;01mis\u001b[39;00m \u001b[38;5;28;01mNone\u001b[39;00m \u001b[38;5;129;01mand\u001b[39;00m\n\u001b[1;32m    345\u001b[0m         parse_constant \u001b[38;5;129;01mis\u001b[39;00m \u001b[38;5;28;01mNone\u001b[39;00m \u001b[38;5;129;01mand\u001b[39;00m object_pairs_hook \u001b[38;5;129;01mis\u001b[39;00m \u001b[38;5;28;01mNone\u001b[39;00m \u001b[38;5;129;01mand\u001b[39;00m \u001b[38;5;129;01mnot\u001b[39;00m kw):\n\u001b[0;32m--> 346\u001b[0m     \u001b[38;5;28;01mreturn\u001b[39;00m \u001b[43m_default_decoder\u001b[49m\u001b[38;5;241;43m.\u001b[39;49m\u001b[43mdecode\u001b[49m\u001b[43m(\u001b[49m\u001b[43ms\u001b[49m\u001b[43m)\u001b[49m\n\u001b[1;32m    347\u001b[0m \u001b[38;5;28;01mif\u001b[39;00m \u001b[38;5;28mcls\u001b[39m \u001b[38;5;129;01mis\u001b[39;00m \u001b[38;5;28;01mNone\u001b[39;00m:\n\u001b[1;32m    348\u001b[0m     \u001b[38;5;28mcls\u001b[39m \u001b[38;5;241m=\u001b[39m JSONDecoder\n",
      "File \u001b[0;32m/opt/conda/lib/python3.10/json/decoder.py:337\u001b[0m, in \u001b[0;36mJSONDecoder.decode\u001b[0;34m(self, s, _w)\u001b[0m\n\u001b[1;32m    332\u001b[0m \u001b[38;5;28;01mdef\u001b[39;00m \u001b[38;5;21mdecode\u001b[39m(\u001b[38;5;28mself\u001b[39m, s, _w\u001b[38;5;241m=\u001b[39mWHITESPACE\u001b[38;5;241m.\u001b[39mmatch):\n\u001b[1;32m    333\u001b[0m \u001b[38;5;250m    \u001b[39m\u001b[38;5;124;03m\"\"\"Return the Python representation of ``s`` (a ``str`` instance\u001b[39;00m\n\u001b[1;32m    334\u001b[0m \u001b[38;5;124;03m    containing a JSON document).\u001b[39;00m\n\u001b[1;32m    335\u001b[0m \n\u001b[1;32m    336\u001b[0m \u001b[38;5;124;03m    \"\"\"\u001b[39;00m\n\u001b[0;32m--> 337\u001b[0m     obj, end \u001b[38;5;241m=\u001b[39m \u001b[38;5;28;43mself\u001b[39;49m\u001b[38;5;241;43m.\u001b[39;49m\u001b[43mraw_decode\u001b[49m\u001b[43m(\u001b[49m\u001b[43ms\u001b[49m\u001b[43m,\u001b[49m\u001b[43m \u001b[49m\u001b[43midx\u001b[49m\u001b[38;5;241;43m=\u001b[39;49m\u001b[43m_w\u001b[49m\u001b[43m(\u001b[49m\u001b[43ms\u001b[49m\u001b[43m,\u001b[49m\u001b[43m \u001b[49m\u001b[38;5;241;43m0\u001b[39;49m\u001b[43m)\u001b[49m\u001b[38;5;241;43m.\u001b[39;49m\u001b[43mend\u001b[49m\u001b[43m(\u001b[49m\u001b[43m)\u001b[49m\u001b[43m)\u001b[49m\n\u001b[1;32m    338\u001b[0m     end \u001b[38;5;241m=\u001b[39m _w(s, end)\u001b[38;5;241m.\u001b[39mend()\n\u001b[1;32m    339\u001b[0m     \u001b[38;5;28;01mif\u001b[39;00m end \u001b[38;5;241m!=\u001b[39m \u001b[38;5;28mlen\u001b[39m(s):\n",
      "File \u001b[0;32m/opt/conda/lib/python3.10/json/decoder.py:355\u001b[0m, in \u001b[0;36mJSONDecoder.raw_decode\u001b[0;34m(self, s, idx)\u001b[0m\n\u001b[1;32m    353\u001b[0m     obj, end \u001b[38;5;241m=\u001b[39m \u001b[38;5;28mself\u001b[39m\u001b[38;5;241m.\u001b[39mscan_once(s, idx)\n\u001b[1;32m    354\u001b[0m \u001b[38;5;28;01mexcept\u001b[39;00m \u001b[38;5;167;01mStopIteration\u001b[39;00m \u001b[38;5;28;01mas\u001b[39;00m err:\n\u001b[0;32m--> 355\u001b[0m     \u001b[38;5;28;01mraise\u001b[39;00m JSONDecodeError(\u001b[38;5;124m\"\u001b[39m\u001b[38;5;124mExpecting value\u001b[39m\u001b[38;5;124m\"\u001b[39m, s, err\u001b[38;5;241m.\u001b[39mvalue) \u001b[38;5;28;01mfrom\u001b[39;00m \u001b[38;5;28;01mNone\u001b[39;00m\n\u001b[1;32m    356\u001b[0m \u001b[38;5;28;01mreturn\u001b[39;00m obj, end\n",
      "\u001b[0;31mJSONDecodeError\u001b[0m: Expecting value: line 1 column 2 (char 1)"
     ]
    }
   ],
   "source": [
    "import json\n",
    "\n",
    "# Step 1: Function to select one keyword from keywords as instruction\n",
    "def select_instruction(keywords):\n",
    "    if keywords:\n",
    "        return keywords[0]  # Select the first keyword\n",
    "    else:\n",
    "        return \"\"\n",
    "\n",
    "# Step 3: Generate output content function\n",
    "def generate_output(recipe_ingredients, recipe_instructions):\n",
    "    return f\"您需要準備以下食材：\\n{recipe_ingredients}\\n按以下方法製作：\\n{recipe_instructions}\"\n",
    "\n",
    "# Step 4: System value\n",
    "system_value = \"你是個專業的廚師，你會做很多菜。用戶報上自己所需的菜名後，你可以把做飯所需的原料，以及做飯的方法告訴用戶\"\n",
    "\n",
    "# Step 5: Output file path\n",
    "output_file = \"out.json\"\n",
    "\n",
    "# Read input file and process each line\n",
    "with open(\"MedQA2019.json\", \"r\", encoding=\"utf-8\") as f:\n",
    "    data = [json.loads(line.strip()) for line in f]\n",
    "\n",
    "output_data = []\n",
    "\n",
    "# Process each entry in the input data\n",
    "for entry in data:\n",
    "    instruction = select_instruction(entry.get(\"keywords\", []))\n",
    "    recipe_ingredients = \", \".join(entry.get(\"recipeIngredient\", []))\n",
    "    recipe_instructions = \", \".join(entry.get(\"recipeInstructions\", []))\n",
    "\n",
    "    # Step 3: Generate output content\n",
    "    output_content = generate_output(recipe_ingredients, recipe_instructions)\n",
    "\n",
    "    output_data.append({\n",
    "        \"instruction\": instruction,\n",
    "        \"input\": \"\",\n",
    "        \"output\": output_content,\n",
    "        \"system\": system_value\n",
    "    })\n",
    "\n",
    "# Write the output data to a JSON file\n",
    "with open(output_file, \"w\", encoding=\"utf-8\") as outfile:\n",
    "    json.dump(output_data, outfile, ensure_ascii=False, indent=2)\n"
   ]
  },
  {
   "cell_type": "code",
   "execution_count": null,
   "id": "3b399077-4780-4365-9c17-1dc5252b10fe",
   "metadata": {},
   "outputs": [],
   "source": []
  }
 ],
 "metadata": {
  "kernelspec": {
   "display_name": "Image_S-work-book_c00cjz00_cuda11.8_pytorch_2.1.2-cuda11.8-cudnn8-runtime",
   "language": "python",
   "name": "s-work-book_c00cjz00_cuda11.8_pytorch_2.1.2-cuda11.8-cudnn8-runtime"
  },
  "language_info": {
   "codemirror_mode": {
    "name": "ipython",
    "version": 3
   },
   "file_extension": ".py",
   "mimetype": "text/x-python",
   "name": "python",
   "nbconvert_exporter": "python",
   "pygments_lexer": "ipython3",
   "version": "3.10.13"
  }
 },
 "nbformat": 4,
 "nbformat_minor": 5
}
