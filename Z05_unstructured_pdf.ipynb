{
  "nbformat": 4,
  "nbformat_minor": 0,
  "metadata": {
    "colab": {
      "provenance": [],
      "gpuType": "T4"
    },
    "kernelspec": {
      "name": "python3",
      "display_name": "Python 3"
    },
    "language_info": {
      "name": "python"
    },
    "widgets": {
      "application/vnd.jupyter.widget-state+json": {
        "f9aa38639f1f4088af8c6339332fcb77": {
          "model_module": "@jupyter-widgets/controls",
          "model_name": "HBoxModel",
          "model_module_version": "1.5.0",
          "state": {
            "_dom_classes": [],
            "_model_module": "@jupyter-widgets/controls",
            "_model_module_version": "1.5.0",
            "_model_name": "HBoxModel",
            "_view_count": null,
            "_view_module": "@jupyter-widgets/controls",
            "_view_module_version": "1.5.0",
            "_view_name": "HBoxView",
            "box_style": "",
            "children": [
              "IPY_MODEL_96f301be518a463c93ac1d9982d5d289",
              "IPY_MODEL_5e1a2b4032ea4623ba6dc4473c016619",
              "IPY_MODEL_5ab60c9241164aa29d93f10bdafd936f"
            ],
            "layout": "IPY_MODEL_077c4d18a3134afa84c93f9eba80580c"
          }
        },
        "96f301be518a463c93ac1d9982d5d289": {
          "model_module": "@jupyter-widgets/controls",
          "model_name": "HTMLModel",
          "model_module_version": "1.5.0",
          "state": {
            "_dom_classes": [],
            "_model_module": "@jupyter-widgets/controls",
            "_model_module_version": "1.5.0",
            "_model_name": "HTMLModel",
            "_view_count": null,
            "_view_module": "@jupyter-widgets/controls",
            "_view_module_version": "1.5.0",
            "_view_name": "HTMLView",
            "description": "",
            "description_tooltip": null,
            "layout": "IPY_MODEL_9d77a3ceeb1b40bbbb95687454e3e5b0",
            "placeholder": "​",
            "style": "IPY_MODEL_7544baa9f88d403bbe08703cba476951",
            "value": "config.json: 100%"
          }
        },
        "5e1a2b4032ea4623ba6dc4473c016619": {
          "model_module": "@jupyter-widgets/controls",
          "model_name": "FloatProgressModel",
          "model_module_version": "1.5.0",
          "state": {
            "_dom_classes": [],
            "_model_module": "@jupyter-widgets/controls",
            "_model_module_version": "1.5.0",
            "_model_name": "FloatProgressModel",
            "_view_count": null,
            "_view_module": "@jupyter-widgets/controls",
            "_view_module_version": "1.5.0",
            "_view_name": "ProgressView",
            "bar_style": "success",
            "description": "",
            "description_tooltip": null,
            "layout": "IPY_MODEL_f34d708230634d4bb6d0842e523ec39a",
            "max": 1469,
            "min": 0,
            "orientation": "horizontal",
            "style": "IPY_MODEL_a0ac502dbe454462a0e7ee7baee4cf5a",
            "value": 1469
          }
        },
        "5ab60c9241164aa29d93f10bdafd936f": {
          "model_module": "@jupyter-widgets/controls",
          "model_name": "HTMLModel",
          "model_module_version": "1.5.0",
          "state": {
            "_dom_classes": [],
            "_model_module": "@jupyter-widgets/controls",
            "_model_module_version": "1.5.0",
            "_model_name": "HTMLModel",
            "_view_count": null,
            "_view_module": "@jupyter-widgets/controls",
            "_view_module_version": "1.5.0",
            "_view_name": "HTMLView",
            "description": "",
            "description_tooltip": null,
            "layout": "IPY_MODEL_a59e58bc6d6341b5b18f55e5c2fd7b9e",
            "placeholder": "​",
            "style": "IPY_MODEL_2dc1a764343f4b1f862d479071a78c6b",
            "value": " 1.47k/1.47k [00:00&lt;00:00, 83.8kB/s]"
          }
        },
        "077c4d18a3134afa84c93f9eba80580c": {
          "model_module": "@jupyter-widgets/base",
          "model_name": "LayoutModel",
          "model_module_version": "1.2.0",
          "state": {
            "_model_module": "@jupyter-widgets/base",
            "_model_module_version": "1.2.0",
            "_model_name": "LayoutModel",
            "_view_count": null,
            "_view_module": "@jupyter-widgets/base",
            "_view_module_version": "1.2.0",
            "_view_name": "LayoutView",
            "align_content": null,
            "align_items": null,
            "align_self": null,
            "border": null,
            "bottom": null,
            "display": null,
            "flex": null,
            "flex_flow": null,
            "grid_area": null,
            "grid_auto_columns": null,
            "grid_auto_flow": null,
            "grid_auto_rows": null,
            "grid_column": null,
            "grid_gap": null,
            "grid_row": null,
            "grid_template_areas": null,
            "grid_template_columns": null,
            "grid_template_rows": null,
            "height": null,
            "justify_content": null,
            "justify_items": null,
            "left": null,
            "margin": null,
            "max_height": null,
            "max_width": null,
            "min_height": null,
            "min_width": null,
            "object_fit": null,
            "object_position": null,
            "order": null,
            "overflow": null,
            "overflow_x": null,
            "overflow_y": null,
            "padding": null,
            "right": null,
            "top": null,
            "visibility": null,
            "width": null
          }
        },
        "9d77a3ceeb1b40bbbb95687454e3e5b0": {
          "model_module": "@jupyter-widgets/base",
          "model_name": "LayoutModel",
          "model_module_version": "1.2.0",
          "state": {
            "_model_module": "@jupyter-widgets/base",
            "_model_module_version": "1.2.0",
            "_model_name": "LayoutModel",
            "_view_count": null,
            "_view_module": "@jupyter-widgets/base",
            "_view_module_version": "1.2.0",
            "_view_name": "LayoutView",
            "align_content": null,
            "align_items": null,
            "align_self": null,
            "border": null,
            "bottom": null,
            "display": null,
            "flex": null,
            "flex_flow": null,
            "grid_area": null,
            "grid_auto_columns": null,
            "grid_auto_flow": null,
            "grid_auto_rows": null,
            "grid_column": null,
            "grid_gap": null,
            "grid_row": null,
            "grid_template_areas": null,
            "grid_template_columns": null,
            "grid_template_rows": null,
            "height": null,
            "justify_content": null,
            "justify_items": null,
            "left": null,
            "margin": null,
            "max_height": null,
            "max_width": null,
            "min_height": null,
            "min_width": null,
            "object_fit": null,
            "object_position": null,
            "order": null,
            "overflow": null,
            "overflow_x": null,
            "overflow_y": null,
            "padding": null,
            "right": null,
            "top": null,
            "visibility": null,
            "width": null
          }
        },
        "7544baa9f88d403bbe08703cba476951": {
          "model_module": "@jupyter-widgets/controls",
          "model_name": "DescriptionStyleModel",
          "model_module_version": "1.5.0",
          "state": {
            "_model_module": "@jupyter-widgets/controls",
            "_model_module_version": "1.5.0",
            "_model_name": "DescriptionStyleModel",
            "_view_count": null,
            "_view_module": "@jupyter-widgets/base",
            "_view_module_version": "1.2.0",
            "_view_name": "StyleView",
            "description_width": ""
          }
        },
        "f34d708230634d4bb6d0842e523ec39a": {
          "model_module": "@jupyter-widgets/base",
          "model_name": "LayoutModel",
          "model_module_version": "1.2.0",
          "state": {
            "_model_module": "@jupyter-widgets/base",
            "_model_module_version": "1.2.0",
            "_model_name": "LayoutModel",
            "_view_count": null,
            "_view_module": "@jupyter-widgets/base",
            "_view_module_version": "1.2.0",
            "_view_name": "LayoutView",
            "align_content": null,
            "align_items": null,
            "align_self": null,
            "border": null,
            "bottom": null,
            "display": null,
            "flex": null,
            "flex_flow": null,
            "grid_area": null,
            "grid_auto_columns": null,
            "grid_auto_flow": null,
            "grid_auto_rows": null,
            "grid_column": null,
            "grid_gap": null,
            "grid_row": null,
            "grid_template_areas": null,
            "grid_template_columns": null,
            "grid_template_rows": null,
            "height": null,
            "justify_content": null,
            "justify_items": null,
            "left": null,
            "margin": null,
            "max_height": null,
            "max_width": null,
            "min_height": null,
            "min_width": null,
            "object_fit": null,
            "object_position": null,
            "order": null,
            "overflow": null,
            "overflow_x": null,
            "overflow_y": null,
            "padding": null,
            "right": null,
            "top": null,
            "visibility": null,
            "width": null
          }
        },
        "a0ac502dbe454462a0e7ee7baee4cf5a": {
          "model_module": "@jupyter-widgets/controls",
          "model_name": "ProgressStyleModel",
          "model_module_version": "1.5.0",
          "state": {
            "_model_module": "@jupyter-widgets/controls",
            "_model_module_version": "1.5.0",
            "_model_name": "ProgressStyleModel",
            "_view_count": null,
            "_view_module": "@jupyter-widgets/base",
            "_view_module_version": "1.2.0",
            "_view_name": "StyleView",
            "bar_color": null,
            "description_width": ""
          }
        },
        "a59e58bc6d6341b5b18f55e5c2fd7b9e": {
          "model_module": "@jupyter-widgets/base",
          "model_name": "LayoutModel",
          "model_module_version": "1.2.0",
          "state": {
            "_model_module": "@jupyter-widgets/base",
            "_model_module_version": "1.2.0",
            "_model_name": "LayoutModel",
            "_view_count": null,
            "_view_module": "@jupyter-widgets/base",
            "_view_module_version": "1.2.0",
            "_view_name": "LayoutView",
            "align_content": null,
            "align_items": null,
            "align_self": null,
            "border": null,
            "bottom": null,
            "display": null,
            "flex": null,
            "flex_flow": null,
            "grid_area": null,
            "grid_auto_columns": null,
            "grid_auto_flow": null,
            "grid_auto_rows": null,
            "grid_column": null,
            "grid_gap": null,
            "grid_row": null,
            "grid_template_areas": null,
            "grid_template_columns": null,
            "grid_template_rows": null,
            "height": null,
            "justify_content": null,
            "justify_items": null,
            "left": null,
            "margin": null,
            "max_height": null,
            "max_width": null,
            "min_height": null,
            "min_width": null,
            "object_fit": null,
            "object_position": null,
            "order": null,
            "overflow": null,
            "overflow_x": null,
            "overflow_y": null,
            "padding": null,
            "right": null,
            "top": null,
            "visibility": null,
            "width": null
          }
        },
        "2dc1a764343f4b1f862d479071a78c6b": {
          "model_module": "@jupyter-widgets/controls",
          "model_name": "DescriptionStyleModel",
          "model_module_version": "1.5.0",
          "state": {
            "_model_module": "@jupyter-widgets/controls",
            "_model_module_version": "1.5.0",
            "_model_name": "DescriptionStyleModel",
            "_view_count": null,
            "_view_module": "@jupyter-widgets/base",
            "_view_module_version": "1.2.0",
            "_view_name": "StyleView",
            "description_width": ""
          }
        },
        "a54e3d6678ad4b1fa40aa3ceb2be31b0": {
          "model_module": "@jupyter-widgets/controls",
          "model_name": "HBoxModel",
          "model_module_version": "1.5.0",
          "state": {
            "_dom_classes": [],
            "_model_module": "@jupyter-widgets/controls",
            "_model_module_version": "1.5.0",
            "_model_name": "HBoxModel",
            "_view_count": null,
            "_view_module": "@jupyter-widgets/controls",
            "_view_module_version": "1.5.0",
            "_view_name": "HBoxView",
            "box_style": "",
            "children": [
              "IPY_MODEL_f2bc724321be4cfdb1d0a3bf247b7bc8",
              "IPY_MODEL_e0ff92310f824a1aab8fbfaf73a6118b",
              "IPY_MODEL_b192d73978a24f9aaecaf39aecd3c4c9"
            ],
            "layout": "IPY_MODEL_5dd4f205930b4e4aa77f02dcc5692422"
          }
        },
        "f2bc724321be4cfdb1d0a3bf247b7bc8": {
          "model_module": "@jupyter-widgets/controls",
          "model_name": "HTMLModel",
          "model_module_version": "1.5.0",
          "state": {
            "_dom_classes": [],
            "_model_module": "@jupyter-widgets/controls",
            "_model_module_version": "1.5.0",
            "_model_name": "HTMLModel",
            "_view_count": null,
            "_view_module": "@jupyter-widgets/controls",
            "_view_module_version": "1.5.0",
            "_view_name": "HTMLView",
            "description": "",
            "description_tooltip": null,
            "layout": "IPY_MODEL_a89e9ce45d77474dbbf8828a796b4bc5",
            "placeholder": "​",
            "style": "IPY_MODEL_f810a0f0ac4f4560bc59d04cde1dc2ec",
            "value": "model.safetensors: 100%"
          }
        },
        "e0ff92310f824a1aab8fbfaf73a6118b": {
          "model_module": "@jupyter-widgets/controls",
          "model_name": "FloatProgressModel",
          "model_module_version": "1.5.0",
          "state": {
            "_dom_classes": [],
            "_model_module": "@jupyter-widgets/controls",
            "_model_module_version": "1.5.0",
            "_model_name": "FloatProgressModel",
            "_view_count": null,
            "_view_module": "@jupyter-widgets/controls",
            "_view_module_version": "1.5.0",
            "_view_name": "ProgressView",
            "bar_style": "success",
            "description": "",
            "description_tooltip": null,
            "layout": "IPY_MODEL_87831d70ef2e4581ac02fb4a77f6f47f",
            "max": 115434268,
            "min": 0,
            "orientation": "horizontal",
            "style": "IPY_MODEL_2c1beff5bba44ba595dcc15059fbddd5",
            "value": 115434268
          }
        },
        "b192d73978a24f9aaecaf39aecd3c4c9": {
          "model_module": "@jupyter-widgets/controls",
          "model_name": "HTMLModel",
          "model_module_version": "1.5.0",
          "state": {
            "_dom_classes": [],
            "_model_module": "@jupyter-widgets/controls",
            "_model_module_version": "1.5.0",
            "_model_name": "HTMLModel",
            "_view_count": null,
            "_view_module": "@jupyter-widgets/controls",
            "_view_module_version": "1.5.0",
            "_view_name": "HTMLView",
            "description": "",
            "description_tooltip": null,
            "layout": "IPY_MODEL_38adc25d4b2048d48f3e903510325883",
            "placeholder": "​",
            "style": "IPY_MODEL_abd7ad6ce54146d3be08f6f8bf609d3f",
            "value": " 115M/115M [00:00&lt;00:00, 160MB/s]"
          }
        },
        "5dd4f205930b4e4aa77f02dcc5692422": {
          "model_module": "@jupyter-widgets/base",
          "model_name": "LayoutModel",
          "model_module_version": "1.2.0",
          "state": {
            "_model_module": "@jupyter-widgets/base",
            "_model_module_version": "1.2.0",
            "_model_name": "LayoutModel",
            "_view_count": null,
            "_view_module": "@jupyter-widgets/base",
            "_view_module_version": "1.2.0",
            "_view_name": "LayoutView",
            "align_content": null,
            "align_items": null,
            "align_self": null,
            "border": null,
            "bottom": null,
            "display": null,
            "flex": null,
            "flex_flow": null,
            "grid_area": null,
            "grid_auto_columns": null,
            "grid_auto_flow": null,
            "grid_auto_rows": null,
            "grid_column": null,
            "grid_gap": null,
            "grid_row": null,
            "grid_template_areas": null,
            "grid_template_columns": null,
            "grid_template_rows": null,
            "height": null,
            "justify_content": null,
            "justify_items": null,
            "left": null,
            "margin": null,
            "max_height": null,
            "max_width": null,
            "min_height": null,
            "min_width": null,
            "object_fit": null,
            "object_position": null,
            "order": null,
            "overflow": null,
            "overflow_x": null,
            "overflow_y": null,
            "padding": null,
            "right": null,
            "top": null,
            "visibility": null,
            "width": null
          }
        },
        "a89e9ce45d77474dbbf8828a796b4bc5": {
          "model_module": "@jupyter-widgets/base",
          "model_name": "LayoutModel",
          "model_module_version": "1.2.0",
          "state": {
            "_model_module": "@jupyter-widgets/base",
            "_model_module_version": "1.2.0",
            "_model_name": "LayoutModel",
            "_view_count": null,
            "_view_module": "@jupyter-widgets/base",
            "_view_module_version": "1.2.0",
            "_view_name": "LayoutView",
            "align_content": null,
            "align_items": null,
            "align_self": null,
            "border": null,
            "bottom": null,
            "display": null,
            "flex": null,
            "flex_flow": null,
            "grid_area": null,
            "grid_auto_columns": null,
            "grid_auto_flow": null,
            "grid_auto_rows": null,
            "grid_column": null,
            "grid_gap": null,
            "grid_row": null,
            "grid_template_areas": null,
            "grid_template_columns": null,
            "grid_template_rows": null,
            "height": null,
            "justify_content": null,
            "justify_items": null,
            "left": null,
            "margin": null,
            "max_height": null,
            "max_width": null,
            "min_height": null,
            "min_width": null,
            "object_fit": null,
            "object_position": null,
            "order": null,
            "overflow": null,
            "overflow_x": null,
            "overflow_y": null,
            "padding": null,
            "right": null,
            "top": null,
            "visibility": null,
            "width": null
          }
        },
        "f810a0f0ac4f4560bc59d04cde1dc2ec": {
          "model_module": "@jupyter-widgets/controls",
          "model_name": "DescriptionStyleModel",
          "model_module_version": "1.5.0",
          "state": {
            "_model_module": "@jupyter-widgets/controls",
            "_model_module_version": "1.5.0",
            "_model_name": "DescriptionStyleModel",
            "_view_count": null,
            "_view_module": "@jupyter-widgets/base",
            "_view_module_version": "1.2.0",
            "_view_name": "StyleView",
            "description_width": ""
          }
        },
        "87831d70ef2e4581ac02fb4a77f6f47f": {
          "model_module": "@jupyter-widgets/base",
          "model_name": "LayoutModel",
          "model_module_version": "1.2.0",
          "state": {
            "_model_module": "@jupyter-widgets/base",
            "_model_module_version": "1.2.0",
            "_model_name": "LayoutModel",
            "_view_count": null,
            "_view_module": "@jupyter-widgets/base",
            "_view_module_version": "1.2.0",
            "_view_name": "LayoutView",
            "align_content": null,
            "align_items": null,
            "align_self": null,
            "border": null,
            "bottom": null,
            "display": null,
            "flex": null,
            "flex_flow": null,
            "grid_area": null,
            "grid_auto_columns": null,
            "grid_auto_flow": null,
            "grid_auto_rows": null,
            "grid_column": null,
            "grid_gap": null,
            "grid_row": null,
            "grid_template_areas": null,
            "grid_template_columns": null,
            "grid_template_rows": null,
            "height": null,
            "justify_content": null,
            "justify_items": null,
            "left": null,
            "margin": null,
            "max_height": null,
            "max_width": null,
            "min_height": null,
            "min_width": null,
            "object_fit": null,
            "object_position": null,
            "order": null,
            "overflow": null,
            "overflow_x": null,
            "overflow_y": null,
            "padding": null,
            "right": null,
            "top": null,
            "visibility": null,
            "width": null
          }
        },
        "2c1beff5bba44ba595dcc15059fbddd5": {
          "model_module": "@jupyter-widgets/controls",
          "model_name": "ProgressStyleModel",
          "model_module_version": "1.5.0",
          "state": {
            "_model_module": "@jupyter-widgets/controls",
            "_model_module_version": "1.5.0",
            "_model_name": "ProgressStyleModel",
            "_view_count": null,
            "_view_module": "@jupyter-widgets/base",
            "_view_module_version": "1.2.0",
            "_view_name": "StyleView",
            "bar_color": null,
            "description_width": ""
          }
        },
        "38adc25d4b2048d48f3e903510325883": {
          "model_module": "@jupyter-widgets/base",
          "model_name": "LayoutModel",
          "model_module_version": "1.2.0",
          "state": {
            "_model_module": "@jupyter-widgets/base",
            "_model_module_version": "1.2.0",
            "_model_name": "LayoutModel",
            "_view_count": null,
            "_view_module": "@jupyter-widgets/base",
            "_view_module_version": "1.2.0",
            "_view_name": "LayoutView",
            "align_content": null,
            "align_items": null,
            "align_self": null,
            "border": null,
            "bottom": null,
            "display": null,
            "flex": null,
            "flex_flow": null,
            "grid_area": null,
            "grid_auto_columns": null,
            "grid_auto_flow": null,
            "grid_auto_rows": null,
            "grid_column": null,
            "grid_gap": null,
            "grid_row": null,
            "grid_template_areas": null,
            "grid_template_columns": null,
            "grid_template_rows": null,
            "height": null,
            "justify_content": null,
            "justify_items": null,
            "left": null,
            "margin": null,
            "max_height": null,
            "max_width": null,
            "min_height": null,
            "min_width": null,
            "object_fit": null,
            "object_position": null,
            "order": null,
            "overflow": null,
            "overflow_x": null,
            "overflow_y": null,
            "padding": null,
            "right": null,
            "top": null,
            "visibility": null,
            "width": null
          }
        },
        "abd7ad6ce54146d3be08f6f8bf609d3f": {
          "model_module": "@jupyter-widgets/controls",
          "model_name": "DescriptionStyleModel",
          "model_module_version": "1.5.0",
          "state": {
            "_model_module": "@jupyter-widgets/controls",
            "_model_module_version": "1.5.0",
            "_model_name": "DescriptionStyleModel",
            "_view_count": null,
            "_view_module": "@jupyter-widgets/base",
            "_view_module_version": "1.2.0",
            "_view_name": "StyleView",
            "description_width": ""
          }
        },
        "f45c47ea08714fc6afa51fd6724bbc57": {
          "model_module": "@jupyter-widgets/controls",
          "model_name": "HBoxModel",
          "model_module_version": "1.5.0",
          "state": {
            "_dom_classes": [],
            "_model_module": "@jupyter-widgets/controls",
            "_model_module_version": "1.5.0",
            "_model_name": "HBoxModel",
            "_view_count": null,
            "_view_module": "@jupyter-widgets/controls",
            "_view_module_version": "1.5.0",
            "_view_name": "HBoxView",
            "box_style": "",
            "children": [
              "IPY_MODEL_f390237d630c48e1beb4bf56448b8c6d",
              "IPY_MODEL_4c171c5c2e064cd799a87f18c69d3828",
              "IPY_MODEL_0e4bd06dcc164d1d966a11e85667f8e9"
            ],
            "layout": "IPY_MODEL_b876b5d80a70401b8938dfccb1ebef9c"
          }
        },
        "f390237d630c48e1beb4bf56448b8c6d": {
          "model_module": "@jupyter-widgets/controls",
          "model_name": "HTMLModel",
          "model_module_version": "1.5.0",
          "state": {
            "_dom_classes": [],
            "_model_module": "@jupyter-widgets/controls",
            "_model_module_version": "1.5.0",
            "_model_name": "HTMLModel",
            "_view_count": null,
            "_view_module": "@jupyter-widgets/controls",
            "_view_module_version": "1.5.0",
            "_view_name": "HTMLView",
            "description": "",
            "description_tooltip": null,
            "layout": "IPY_MODEL_1da29b15aaca4012b8d46515d22e8fad",
            "placeholder": "​",
            "style": "IPY_MODEL_ec34244131b94628a6f8b894e75906e1",
            "value": "model.safetensors: 100%"
          }
        },
        "4c171c5c2e064cd799a87f18c69d3828": {
          "model_module": "@jupyter-widgets/controls",
          "model_name": "FloatProgressModel",
          "model_module_version": "1.5.0",
          "state": {
            "_dom_classes": [],
            "_model_module": "@jupyter-widgets/controls",
            "_model_module_version": "1.5.0",
            "_model_name": "FloatProgressModel",
            "_view_count": null,
            "_view_module": "@jupyter-widgets/controls",
            "_view_module_version": "1.5.0",
            "_view_name": "ProgressView",
            "bar_style": "success",
            "description": "",
            "description_tooltip": null,
            "layout": "IPY_MODEL_3a772168056e4576bc71388341fd76f3",
            "max": 46807446,
            "min": 0,
            "orientation": "horizontal",
            "style": "IPY_MODEL_c9d746b5a6a0442f98cbf92f8af6a6cc",
            "value": 46807446
          }
        },
        "0e4bd06dcc164d1d966a11e85667f8e9": {
          "model_module": "@jupyter-widgets/controls",
          "model_name": "HTMLModel",
          "model_module_version": "1.5.0",
          "state": {
            "_dom_classes": [],
            "_model_module": "@jupyter-widgets/controls",
            "_model_module_version": "1.5.0",
            "_model_name": "HTMLModel",
            "_view_count": null,
            "_view_module": "@jupyter-widgets/controls",
            "_view_module_version": "1.5.0",
            "_view_name": "HTMLView",
            "description": "",
            "description_tooltip": null,
            "layout": "IPY_MODEL_b3172151f27d4b2da65841180bdff1b9",
            "placeholder": "​",
            "style": "IPY_MODEL_045eb33dc10b4a059ccaf5ba7d49d375",
            "value": " 46.8M/46.8M [00:00&lt;00:00, 182MB/s]"
          }
        },
        "b876b5d80a70401b8938dfccb1ebef9c": {
          "model_module": "@jupyter-widgets/base",
          "model_name": "LayoutModel",
          "model_module_version": "1.2.0",
          "state": {
            "_model_module": "@jupyter-widgets/base",
            "_model_module_version": "1.2.0",
            "_model_name": "LayoutModel",
            "_view_count": null,
            "_view_module": "@jupyter-widgets/base",
            "_view_module_version": "1.2.0",
            "_view_name": "LayoutView",
            "align_content": null,
            "align_items": null,
            "align_self": null,
            "border": null,
            "bottom": null,
            "display": null,
            "flex": null,
            "flex_flow": null,
            "grid_area": null,
            "grid_auto_columns": null,
            "grid_auto_flow": null,
            "grid_auto_rows": null,
            "grid_column": null,
            "grid_gap": null,
            "grid_row": null,
            "grid_template_areas": null,
            "grid_template_columns": null,
            "grid_template_rows": null,
            "height": null,
            "justify_content": null,
            "justify_items": null,
            "left": null,
            "margin": null,
            "max_height": null,
            "max_width": null,
            "min_height": null,
            "min_width": null,
            "object_fit": null,
            "object_position": null,
            "order": null,
            "overflow": null,
            "overflow_x": null,
            "overflow_y": null,
            "padding": null,
            "right": null,
            "top": null,
            "visibility": null,
            "width": null
          }
        },
        "1da29b15aaca4012b8d46515d22e8fad": {
          "model_module": "@jupyter-widgets/base",
          "model_name": "LayoutModel",
          "model_module_version": "1.2.0",
          "state": {
            "_model_module": "@jupyter-widgets/base",
            "_model_module_version": "1.2.0",
            "_model_name": "LayoutModel",
            "_view_count": null,
            "_view_module": "@jupyter-widgets/base",
            "_view_module_version": "1.2.0",
            "_view_name": "LayoutView",
            "align_content": null,
            "align_items": null,
            "align_self": null,
            "border": null,
            "bottom": null,
            "display": null,
            "flex": null,
            "flex_flow": null,
            "grid_area": null,
            "grid_auto_columns": null,
            "grid_auto_flow": null,
            "grid_auto_rows": null,
            "grid_column": null,
            "grid_gap": null,
            "grid_row": null,
            "grid_template_areas": null,
            "grid_template_columns": null,
            "grid_template_rows": null,
            "height": null,
            "justify_content": null,
            "justify_items": null,
            "left": null,
            "margin": null,
            "max_height": null,
            "max_width": null,
            "min_height": null,
            "min_width": null,
            "object_fit": null,
            "object_position": null,
            "order": null,
            "overflow": null,
            "overflow_x": null,
            "overflow_y": null,
            "padding": null,
            "right": null,
            "top": null,
            "visibility": null,
            "width": null
          }
        },
        "ec34244131b94628a6f8b894e75906e1": {
          "model_module": "@jupyter-widgets/controls",
          "model_name": "DescriptionStyleModel",
          "model_module_version": "1.5.0",
          "state": {
            "_model_module": "@jupyter-widgets/controls",
            "_model_module_version": "1.5.0",
            "_model_name": "DescriptionStyleModel",
            "_view_count": null,
            "_view_module": "@jupyter-widgets/base",
            "_view_module_version": "1.2.0",
            "_view_name": "StyleView",
            "description_width": ""
          }
        },
        "3a772168056e4576bc71388341fd76f3": {
          "model_module": "@jupyter-widgets/base",
          "model_name": "LayoutModel",
          "model_module_version": "1.2.0",
          "state": {
            "_model_module": "@jupyter-widgets/base",
            "_model_module_version": "1.2.0",
            "_model_name": "LayoutModel",
            "_view_count": null,
            "_view_module": "@jupyter-widgets/base",
            "_view_module_version": "1.2.0",
            "_view_name": "LayoutView",
            "align_content": null,
            "align_items": null,
            "align_self": null,
            "border": null,
            "bottom": null,
            "display": null,
            "flex": null,
            "flex_flow": null,
            "grid_area": null,
            "grid_auto_columns": null,
            "grid_auto_flow": null,
            "grid_auto_rows": null,
            "grid_column": null,
            "grid_gap": null,
            "grid_row": null,
            "grid_template_areas": null,
            "grid_template_columns": null,
            "grid_template_rows": null,
            "height": null,
            "justify_content": null,
            "justify_items": null,
            "left": null,
            "margin": null,
            "max_height": null,
            "max_width": null,
            "min_height": null,
            "min_width": null,
            "object_fit": null,
            "object_position": null,
            "order": null,
            "overflow": null,
            "overflow_x": null,
            "overflow_y": null,
            "padding": null,
            "right": null,
            "top": null,
            "visibility": null,
            "width": null
          }
        },
        "c9d746b5a6a0442f98cbf92f8af6a6cc": {
          "model_module": "@jupyter-widgets/controls",
          "model_name": "ProgressStyleModel",
          "model_module_version": "1.5.0",
          "state": {
            "_model_module": "@jupyter-widgets/controls",
            "_model_module_version": "1.5.0",
            "_model_name": "ProgressStyleModel",
            "_view_count": null,
            "_view_module": "@jupyter-widgets/base",
            "_view_module_version": "1.2.0",
            "_view_name": "StyleView",
            "bar_color": null,
            "description_width": ""
          }
        },
        "b3172151f27d4b2da65841180bdff1b9": {
          "model_module": "@jupyter-widgets/base",
          "model_name": "LayoutModel",
          "model_module_version": "1.2.0",
          "state": {
            "_model_module": "@jupyter-widgets/base",
            "_model_module_version": "1.2.0",
            "_model_name": "LayoutModel",
            "_view_count": null,
            "_view_module": "@jupyter-widgets/base",
            "_view_module_version": "1.2.0",
            "_view_name": "LayoutView",
            "align_content": null,
            "align_items": null,
            "align_self": null,
            "border": null,
            "bottom": null,
            "display": null,
            "flex": null,
            "flex_flow": null,
            "grid_area": null,
            "grid_auto_columns": null,
            "grid_auto_flow": null,
            "grid_auto_rows": null,
            "grid_column": null,
            "grid_gap": null,
            "grid_row": null,
            "grid_template_areas": null,
            "grid_template_columns": null,
            "grid_template_rows": null,
            "height": null,
            "justify_content": null,
            "justify_items": null,
            "left": null,
            "margin": null,
            "max_height": null,
            "max_width": null,
            "min_height": null,
            "min_width": null,
            "object_fit": null,
            "object_position": null,
            "order": null,
            "overflow": null,
            "overflow_x": null,
            "overflow_y": null,
            "padding": null,
            "right": null,
            "top": null,
            "visibility": null,
            "width": null
          }
        },
        "045eb33dc10b4a059ccaf5ba7d49d375": {
          "model_module": "@jupyter-widgets/controls",
          "model_name": "DescriptionStyleModel",
          "model_module_version": "1.5.0",
          "state": {
            "_model_module": "@jupyter-widgets/controls",
            "_model_module_version": "1.5.0",
            "_model_name": "DescriptionStyleModel",
            "_view_count": null,
            "_view_module": "@jupyter-widgets/base",
            "_view_module_version": "1.2.0",
            "_view_name": "StyleView",
            "description_width": ""
          }
        }
      }
    },
    "accelerator": "GPU"
  },
  "cells": [
    {
      "cell_type": "markdown",
      "source": [],
      "metadata": {
        "id": "QDDv7TryIZE2"
      }
    },
    {
      "cell_type": "code",
      "source": [
        "# 下載檔案\n",
        "!gdown 1WaKegKk4J3cf1iHghgSRmgrt0MlWIpkq -O ./"
      ],
      "metadata": {
        "id": "TkKAWUq-IadR",
        "outputId": "40d9a5a4-8d03-4ffb-cdc5-5cbe3d77e6af",
        "colab": {
          "base_uri": "https://localhost:8080/"
        }
      },
      "execution_count": 1,
      "outputs": [
        {
          "output_type": "stream",
          "name": "stdout",
          "text": [
            "Downloading...\n",
            "From: https://drive.google.com/uc?id=1WaKegKk4J3cf1iHghgSRmgrt0MlWIpkq\n",
            "To: /content/1Q23-EPR-with-Tables-FINAL.pdf\n",
            "\r  0% 0.00/638k [00:00<?, ?B/s]\r100% 638k/638k [00:00<00:00, 8.68MB/s]\n"
          ]
        }
      ]
    },
    {
      "cell_type": "code",
      "source": [
        "## 安裝套件\n",
        "!apt-get install poppler-utils tesseract-ocr -y\n",
        "!pip install \"unstructured pydantic lxml langchain openai chromadb tiktoken"
      ],
      "metadata": {
        "id": "BS67bEF8IgEe",
        "outputId": "221d3549-0b17-465b-965e-05087d316b7d",
        "colab": {
          "base_uri": "https://localhost:8080/"
        }
      },
      "execution_count": 3,
      "outputs": [
        {
          "output_type": "stream",
          "name": "stdout",
          "text": [
            "Reading package lists... Done\n",
            "Building dependency tree... Done\n",
            "Reading state information... Done\n",
            "tesseract-ocr is already the newest version (4.1.1-2.1build1).\n",
            "poppler-utils is already the newest version (22.02.0-2ubuntu0.3).\n",
            "0 upgraded, 0 newly installed, 0 to remove and 45 not upgraded.\n",
            "/bin/bash: -c: line 1: unexpected EOF while looking for matching `\"'\n",
            "/bin/bash: -c: line 2: syntax error: unexpected end of file\n"
          ]
        }
      ]
    },
    {
      "cell_type": "code",
      "source": [
        "## 請先點選工作列 [執行階段]-> 重新啟動工作階段\n",
        "## 請先點選工作列 [編輯]-> 清除所有輸出內容\n",
        "## 右側RAM/磁碟標記 -> 變更執行階段 -> T4 GPU\n",
        "# Read PDF\n",
        "from typing import Any\n",
        "from pydantic import BaseModel\n",
        "from unstructured.partition.pdf import partition_pdf\n",
        "\n",
        "#1\n",
        "raw_pdf_elements = partition_pdf(\n",
        "    filename=\"./1Q23-EPR-with-Tables-FINAL.pdf\",\n",
        "    extract_images_in_pdf=False,\n",
        "    infer_table_structure=True,\n",
        "    chunking_strategy=\"by_title\",\n",
        "    max_characters=4000,\n",
        "    new_after_n_chars=3800,\n",
        "    combine_text_under_n_chars=2000,\n",
        "    image_output_dir_path=\".\",\n",
        ")\n",
        "\n",
        "#2\n",
        "category_counts = {}\n",
        "\n",
        "for element in raw_pdf_elements:\n",
        "    category = str(type(element))\n",
        "    if category in category_counts:\n",
        "        category_counts[category] += 1\n",
        "    else:\n",
        "        category_counts[category] = 1\n",
        "\n",
        "unique_categories = set(category_counts.keys())\n",
        "category_counts\n",
        "\n",
        "#3\n",
        "class Element(BaseModel):\n",
        "    type: str\n",
        "    text: Any\n",
        "\n",
        "table_elements = []\n",
        "text_elements = []\n",
        "for element in raw_pdf_elements:\n",
        "    if \"unstructured.documents.elements.Table\" in str(type(element)):\n",
        "        table_elements.append(Element(type=\"table\", text=str(element)))\n",
        "    elif \"unstructured.documents.elements.CompositeElement\" in str(type(element)):\n",
        "        text_elements.append(Element(type=\"text\", text=str(element)))\n",
        "\n",
        "#4\n",
        "print(len(table_elements))\n",
        "print(len(text_elements))"
      ],
      "metadata": {
        "colab": {
          "base_uri": "https://localhost:8080/",
          "height": 223,
          "referenced_widgets": [
            "f9aa38639f1f4088af8c6339332fcb77",
            "96f301be518a463c93ac1d9982d5d289",
            "5e1a2b4032ea4623ba6dc4473c016619",
            "5ab60c9241164aa29d93f10bdafd936f",
            "077c4d18a3134afa84c93f9eba80580c",
            "9d77a3ceeb1b40bbbb95687454e3e5b0",
            "7544baa9f88d403bbe08703cba476951",
            "f34d708230634d4bb6d0842e523ec39a",
            "a0ac502dbe454462a0e7ee7baee4cf5a",
            "a59e58bc6d6341b5b18f55e5c2fd7b9e",
            "2dc1a764343f4b1f862d479071a78c6b",
            "a54e3d6678ad4b1fa40aa3ceb2be31b0",
            "f2bc724321be4cfdb1d0a3bf247b7bc8",
            "e0ff92310f824a1aab8fbfaf73a6118b",
            "b192d73978a24f9aaecaf39aecd3c4c9",
            "5dd4f205930b4e4aa77f02dcc5692422",
            "a89e9ce45d77474dbbf8828a796b4bc5",
            "f810a0f0ac4f4560bc59d04cde1dc2ec",
            "87831d70ef2e4581ac02fb4a77f6f47f",
            "2c1beff5bba44ba595dcc15059fbddd5",
            "38adc25d4b2048d48f3e903510325883",
            "abd7ad6ce54146d3be08f6f8bf609d3f",
            "f45c47ea08714fc6afa51fd6724bbc57",
            "f390237d630c48e1beb4bf56448b8c6d",
            "4c171c5c2e064cd799a87f18c69d3828",
            "0e4bd06dcc164d1d966a11e85667f8e9",
            "b876b5d80a70401b8938dfccb1ebef9c",
            "1da29b15aaca4012b8d46515d22e8fad",
            "ec34244131b94628a6f8b894e75906e1",
            "3a772168056e4576bc71388341fd76f3",
            "c9d746b5a6a0442f98cbf92f8af6a6cc",
            "b3172151f27d4b2da65841180bdff1b9",
            "045eb33dc10b4a059ccaf5ba7d49d375"
          ]
        },
        "id": "JYHnfEX-Iy8y",
        "outputId": "6cc2ae03-11f9-452a-f8ed-5b7bbe9d9317"
      },
      "execution_count": 4,
      "outputs": [
        {
          "output_type": "display_data",
          "data": {
            "text/plain": [
              "config.json:   0%|          | 0.00/1.47k [00:00<?, ?B/s]"
            ],
            "application/vnd.jupyter.widget-view+json": {
              "version_major": 2,
              "version_minor": 0,
              "model_id": "f9aa38639f1f4088af8c6339332fcb77"
            }
          },
          "metadata": {}
        },
        {
          "output_type": "display_data",
          "data": {
            "text/plain": [
              "model.safetensors:   0%|          | 0.00/115M [00:00<?, ?B/s]"
            ],
            "application/vnd.jupyter.widget-view+json": {
              "version_major": 2,
              "version_minor": 0,
              "model_id": "a54e3d6678ad4b1fa40aa3ceb2be31b0"
            }
          },
          "metadata": {}
        },
        {
          "output_type": "display_data",
          "data": {
            "text/plain": [
              "model.safetensors:   0%|          | 0.00/46.8M [00:00<?, ?B/s]"
            ],
            "application/vnd.jupyter.widget-view+json": {
              "version_major": 2,
              "version_minor": 0,
              "model_id": "f45c47ea08714fc6afa51fd6724bbc57"
            }
          },
          "metadata": {}
        },
        {
          "output_type": "stream",
          "name": "stderr",
          "text": [
            "Some weights of the model checkpoint at microsoft/table-transformer-structure-recognition were not used when initializing TableTransformerForObjectDetection: ['model.backbone.conv_encoder.model.layer2.0.downsample.1.num_batches_tracked', 'model.backbone.conv_encoder.model.layer3.0.downsample.1.num_batches_tracked', 'model.backbone.conv_encoder.model.layer4.0.downsample.1.num_batches_tracked']\n",
            "- This IS expected if you are initializing TableTransformerForObjectDetection from the checkpoint of a model trained on another task or with another architecture (e.g. initializing a BertForSequenceClassification model from a BertForPreTraining model).\n",
            "- This IS NOT expected if you are initializing TableTransformerForObjectDetection from the checkpoint of a model that you expect to be exactly identical (initializing a BertForSequenceClassification model from a BertForSequenceClassification model).\n"
          ]
        },
        {
          "output_type": "stream",
          "name": "stdout",
          "text": [
            "8\n",
            "15\n"
          ]
        }
      ]
    },
    {
      "cell_type": "code",
      "source": [
        "# 印出表單\n",
        "for i, table in enumerate(table_elements):\n",
        "    print(i, table)"
      ],
      "metadata": {
        "colab": {
          "base_uri": "https://localhost:8080/"
        },
        "id": "TuoI1IMBJLHV",
        "outputId": "4ad32fc4-7f64-48d8-a030-39c464587cd7"
      },
      "execution_count": 5,
      "outputs": [
        {
          "output_type": "stream",
          "name": "stdout",
          "text": [
            "0 type='table' text=\"($ in millions) ASSETS Current assets: Cash and cash equivalents Merchandise inventory Other current assets Total current assets Property and equipment, net Operating lease assets Other long-term assets Total assets LIABILITIES AND STOCKHOLDERS' EQUITY Current liabilities: Accounts payable Accrued expenses and other current liabilities Current portion of operating lease liabilities Income taxes payable Total current liabilities Long-term liabilities: Revolving credit facility Long-term debt Long-term operating lease liabilities Other long-term liabilities Total long-term liabilities Total stockholders' equity Total liabilities and stockholders' equity April 29, 2023 $ 1,170 2,299 814 4,283 2,646 3,123 880 10,932 $ $ 1,199 1,051 658 10 2,918 350 1,487 3,453 539 5,829 2,185 10,932 $ April 30, 2022 $ 845 3,169 991 5,005 2,791 3,587 874 12,257 $ $ 1,599 1,127 717 29 3,472 350 1,485 3,921 575 6,331 2,454 12,257 $\"\n",
            "1 type='table' text='($ and shares in millions except per share amounts) Net sales Cost of goods sold and occupancy expenses Gross profit Operating expenses Operating loss Interest, net Loss before income taxes Income tax benefit Net loss Weighted-average number of shares - basic Weighted-average number of shares - diluted Net loss per share - basic Net loss per share - diluted 13 Weeks Ended April 29, 2023 April 30, 2022 $ 3,276 2,062 1,214 1,224 (10) 10 (20) (2) (18) $ 3,477 2,381 1,096 1,293 (197) 19 (216) (54) (162) $ $ 367 367 370 370 $ $ (0.05) (0.05) $ $ (0.44) (0.44)'\n",
            "2 type='table' text='13 Weeks Ended ($ in millions) April 29, 2023 (a) April 30, 2022 (a) Cash flows from operating activities: Net loss Depreciation and amortization Gain on sale of building Change in merchandise inventory Change in accounts payable Change in accrued expenses and other current liabilities Change in income taxes payable, net of receivables and other tax-related items Other, net $ (18) 137 (47) 83 (102) (22) (49) 33 15 $ (162) 130 - (166) (336) (236) 369 39 (362) Net cash provided by (used for) operating activities Cash flows from investing activities: Purchases of property and equipment Net proceeds from sale of building Net proceeds from divestiture activity Net cash (used for) provided by investing activities (117) 76 11 (30) (228) 333 - 105 Cash flows from financing activities: Proceeds from revolving credit facility Proceeds from issuances under share-based compensation plans Withholding tax payments related to vesting of stock units Repurchases of common stock Cash dividends paid Net cash (used for) provided by financing activities - 7 (10) - (55) (58) 350 7 (14) (54) (56) 233 Effect of foreign exchange rate fluctuations on cash, cash equivalents, and restricted cash Net decrease in cash, cash equivalents, and restricted cash Cash, cash equivalents, and restricted cash at beginning of period Cash, cash equivalents, and restricted cash at end of period (2) (75) 1,273 1,198 $ (7) (31) 902 871 $'\n",
            "3 type='table' text='13 Weeks Ended ($ in millions) Net cash provided by (used for) operating activities Less: Purchases of property and equipment Free cash flow April 29, 2023 $ 15 (117) (102) $ April 30, 2022 $ $ (362) (228) (590)'\n",
            "4 type='table' text='($ in millions) 13 Weeks Ended April 29, 2023 GAAP metrics, as reported Adjustments for: Gross Profit 1,214 $ Gross Margin 37.1% Operating Expenses $ 1,224 Operating Expenses as a % of Net Sales 37.4% Operating Income (Loss) $ (10) Operating Margin (b) (0.3)% Income Tax Expense (Benefit) $ (2) Net Income (Loss) $ (18) Gain on sale of building Restructuring costs (a) Non-GAAP metrics - 4 1,218 $ -% 0.1% 37.2% 47 (71) 1,200 $ 1.4% (2.2)% 36.6% (47) 75 18 $ (1.4)% 2.3% 0.5% (11) 18 $ 5 (36) 57 $ 3 Earnings (Loss) per Share - Diluted (b) $ (0.05) (0.10) 0.15 0.01 $'\n",
            "5 type='table' text='13 Weeks Ended April 29, 2023 U.S. (1) Canada Europe Asia Other regions Total Old Navy Global $ 1,659 145 - 1 23 1,828 $ Gap Global $ 496 61 29 77 29 692 $ Banana Republic Global $ 374 36 1 14 7 432 $ Athleta Global $ 309 10 1 - 1 321 $ Other (2) $ 3 - - - - $ 3 Total $ 2,841 252 31 92 60 3,276 $'\n",
            "6 type='table' text='13 Weeks Ended April 30, 2022 U.S. (1) Canada Europe Asia Other regions Total Old Navy Global $ 1,673 147 1 - 20 1,841 $ Gap Global $ 497 64 54 141 35 791 $ Banana Republic Global $ 416 43 1 16 6 482 $ Athleta Global $ 344 9 2 - 5 360 $ Other (2) $ 3 - - - - $ 3 Total $ 2,933 263 58 157 66 3,477 $'\n",
            "7 type='table' text='January 28, 2023 13 Weeks Ended April 29, 2023 April 29, 2023 Old Navy North America Gap North America Gap Asia (1) Banana Republic North America Banana Republic Asia Athleta North America Company-operated stores total Franchise (1) Total Number of Store Locations 1,238 493 232 419 46 257 2,685 667 3,352 Number of Stores Opened 15 - 1 - 2 3 21 57 78 Number of Stores Closed 1 5 1 6 2 1 16 6 22 Number of Store Locations 1,252 488 143 413 46 259 2,601 852 3,453 Square Footage (in millions) 20.0 5.1 1.2 3.5 0.2 1.1 31.1 N/A 31.1'\n"
          ]
        }
      ]
    },
    {
      "cell_type": "code",
      "source": [
        "# 印出段落\n",
        "for i, text in enumerate(text_elements):\n",
        "    print(i, text)"
      ],
      "metadata": {
        "colab": {
          "base_uri": "https://localhost:8080/"
        },
        "id": "WxypgEnVKAN8",
        "outputId": "c883f844-f325-40b4-f12d-c3ea3377360b"
      },
      "execution_count": 6,
      "outputs": [
        {
          "output_type": "stream",
          "name": "stdout",
          "text": [
            "0 type='text' text='Gap Inc. Reports First Quarter Fiscal 2023 Results\\n\\nSAN FRANCISCO – May 25, 2023 – Gap Inc. (NYSE: GPS), a portfolio of purpose-led, billion-dollar lifestyle brands including Old Navy, Gap, Banana Republic, and Athleta, and the largest specialty apparel company in the U.S., today reported financial results for its first quarter ended April 29, 2023.\\n\\n“We continue to take the necessary actions to drive critical change at Gap Inc., ultimately getting us back on a path toward delivering consistent results long-term,” said Bob Martin, Executive Chairman and Interim CEO, Gap Inc. “While the macro and consumer environment remain uncertain, Q1 underscores our ability to deliver improvements to the business including share gains at Old Navy and Gap Brand, adjusted operating margin expansion, reduction in inventory, and strength in our balance sheet. The need for lasting change is permeating the organization and I want to express my gratitude to our employees for embracing a new operating model and organizational structure, a renewed focus on our customer, and for their continued belief in our incredible brands.”\\n\\n\"The Gap Inc. Board of Directors and I have deep appreciation for and confidence in the work that has taken hold under Bobby Martin and the Leadership Team, with results already showing progress, and more importantly, a collective focus on continued improvement still ahead. As we are engaged toward the appointment of a new Gap Inc. CEO to carry this work into the future, we look forward to the time when we will introduce this great company’s next leader - one who will bring passion, vision and an unwavering focus on the customer,” said Mayo Shattuck, Lead Independent Director, Gap Inc.\\n\\nFirst Quarter Fiscal 2023 - Financial Results\\n\\n• Net sales of $3.28 billion, down 6% compared to last year, inclusive of an estimated 1-point foreign exchange headwind and 2 percentage points of negative impact from the sale of Gap China. Net sales were in line with the company’s expectations for a mid-single digit decline in the quarter.\\n\\no Comparable sales were down 3%. o Store sales decreased 4% compared to last year. The company ended the quarter with 3,453 store locations in over 40 countries, of which 2,601 were company operated. o Online sales decreased 9% compared to last year and represented 37% of total net\\n\\nsales.\\n\\n• Reported gross margin was 37.1%. Excluding $4 million in restructuring costs, adjusted gross margin of 37.2% increased 570 basis points versus last year.\\n\\no Merchandise margin increased 600 basis points versus last year, or 610 basis points on an adjusted basis, due to lower air freight expense and improved promotional activity in the quarter, partially offset by inflationary cost headwinds.\\n\\no Rent, occupancy, and depreciation (ROD) deleveraged 40 basis points versus last year primarily due to lower online sales in the quarter.\\n\\nReported operating loss was $10 million; reported operating margin of negative 0.3%. • Adjusted operating income was $18 million, excluding a $47 million gain related to the sale of an\\n\\noffice building and $75 million of restructuring costs; adjusted operating margin of 0.5%.\\n\\nThe effective tax rate was 10%. • Reported net loss of $18 million; reported diluted loss per share of $0.05. • Adjusted net income of $3 million, excluding the gain on sale and restructuring costs; adjusted\\n\\ndiluted earnings per share of $0.01.'\n",
            "1 type='text' text='First Quarter Fiscal 2023 – Balance Sheet and Cash Flow Highlights\\n\\n• Ended the quarter with cash and cash equivalents of $1.2 billion, an increase of 38% from the prior year.\\n\\n• Net cash from operating activities was $15 million. Free cash flow, defined as net cash from operating activities less purchases of property and equipment, was negative $102 million.\\n\\nEnding inventory of $2.3 billion was down 27% compared to last year. • Capital expenditures were $117 million. • Paid first quarter dividend of $0.15 per share, totaling $55 million. Board of Directors approved\\n\\nsecond quarter fiscal 2023 dividend of $0.15 per share.\\n\\nAdditional information regarding adjusted gross margin, adjusted operating income, adjusted operating margin, adjusted net income, adjusted diluted earnings per share, and free cash flow, all of which are non-GAAP financial measures, is provided at the end of this press release along with a reconciliation of these measures from the most directly comparable GAAP financial measures for the applicable period.\\n\\nFirst Quarter Fiscal 2023 – Global Brand Results\\n\\nOld Navy:\\n\\n• Net sales of $1.8 billion, down 1% compared to last year. Sales in the quarter were driven by continued strength in the women’s category offset by continued softness in the active and kid’s categories as well as continued slower demand from the lower-income consumer.\\n\\n• Comparable sales were down 1%.\\n\\nGap:\\n\\n• Net sales of $692 million, down 13% compared to last year. Excluding the negative impact from the sale of Gap China, the shutdown of Yeezy Gap and foreign exchange headwinds, net sales were down 1% versus last year driven by continued strength in the women’s category offset by continued softness in the active and kid’s categories as well as strategic store closures in North America.\\n\\n• Comparable sales were up 1%.\\n\\nBanana Republic:\\n\\n• Net sales of $432 million, down 10% on top of 24% growth last year. Sales in the quarter were impacted as the brand lapped outsized growth last year driven by the shift in consumer preferences.\\n\\n• Comparable sales were down 8%.'\n",
            "2 type='text' text=\"Athleta:\\n\\n• Net sales of $321 million, down 11% compared to last year. Sales in the quarter were impacted by continued product acceptance challenges.\\n\\n• Comparable sales were down 13%.\\n\\nFiscal 2023 Outlook\\n\\n“As we look to the remainder of fiscal 2023, we believe we remain well positioned to drive continued margin expansion and improved cash flow relative to last year despite what we know continues to be an uncertain macro and consumer environment,” said Katrina O’Connell, Executive Vice President and Chief Financial Officer, Gap Inc. “We continue to believe we are taking the right steps toward positioning Gap Inc. back on its path towards sustainable, profitable growth and delivering value for our shareholders over the long term.”\\n\\nThe company’s outlook takes into consideration the continued uncertain consumer and macro environment.\\n\\nThe company is estimating second quarter net sales could decrease in the mid to high-single digit range compared to last year’s net sales of $3.86 billion. As a reminder, the sale of Gap China to Baozun Inc. closed on January 31, 2023. Second quarter 2022 net sales included approximately $60 million in sales for Gap China.\\n\\nThe company continues to anticipate that fiscal 2023 net sales could decrease in the low to mid-single digit range compared to last year’s net sales of $15.6 billion. As a reminder, fiscal 2022 net sales included approximately $300 million in sales for Gap China. Fiscal 2023 will include a 53rd week estimated to positively impact net sales by $150 million.\\n\\nThe company expects second quarter and fiscal 2023 gross margin expansion compared to the prior year. At the estimated level of sales described above, the company is planning adjusted SG&A of approximately $1.3 billion in the second quarter and continues to anticipate approximately $5.2 billion for fiscal 2023.\\n\\nThe company now expects fiscal 2023 capital expenditures in the range of $500 million to $525 million, compared to its prior range of $500 million to $550 million, reflecting lower capital project investments and fewer Old Navy and Athleta store openings than previously contemplated.\\n\\nWebcast and Conference Call Information Cammeron McLaughlin, Head of Investor Relations at Gap Inc., will host a conference call to review the company’s first quarter fiscal 2023 results beginning at approximately 2:00 p.m. Pacific Time today. Ms. McLaughlin will be joined by Interim Chief Executive Officer Bob Martin and Chief Financial Officer Katrina O’Connell.\\n\\nA live webcast of the conference call will be available online at investors.gapinc.com. A replay of the webcast will be available at the same location.\\n\\nNon-GAAP Disclosure This press release and related conference call include financial measures that have not been calculated in accordance with U.S. generally accepted accounting principles (GAAP) and are therefore referred to as non-GAAP financial measures. The non-GAAP measures described below are intended to provide investors with additional useful information about the company’s financial performance, to enhance the overall understanding of its past performance and future prospects and to allow for greater transparency with respect to important metrics used by management for financial and operating decision-making. The company presents these non-GAAP financial measures to assist investors in seeing its financial performance from management's view and because it believes they provide an additional tool for investors to use in computing the company's core financial performance over multiple periods with other companies in its industry. Additional information regarding the intended use of each non- GAAP measure included in this press release and related conference call is provided in the tables to this press release.\"\n",
            "3 type='text' text='The non-GAAP measures included in this press release and related conference call are adjusted gross margin, adjusted operating expenses/adjusted SG&A, adjusted operating income, adjusted operating margin, adjusted net income, adjusted diluted earnings per share, and free cash flow, as well as expected adjusted operating expenses/adjusted SG&A. These non-GAAP measures exclude the impact of certain items that are set forth in the tables to this press release. Also note that a reconciliation of expected adjusted operating expenses/adjusted SG&A is not provided, in reliance on the exception provided under Item 10(e)(1)(i)(B) of Regulation S-K, because a comparable GAAP measure is not reasonably accessible or reliable due to the inherent difficulty in forecasting and quantifying measures that would be necessary for such reconciliation. Namely, we are not able to reliably predict the impact of many of the costs and expenses that may be incurred in the future that could impact operating expenses/SG&A. In addition, we believe such a reconciliation would imply a degree of precision and certainty that could be confusing to investors. The variability of those costs and expenses may be material and have a significant and unpredictable impact on our future GAAP results.\\n\\nThe non-GAAP measures used by the company should not be considered as a substitute for, or superior to, measures of financial performance prepared in accordance with GAAP and may not be the same as similarly titled measures used by other companies due to possible differences in method and in items or events being adjusted. The company urges investors to review the reconciliation of these non-GAAP financial measures to the most directly comparable GAAP financial measures included in the tables to this press release below, and not to rely on any single financial measure to evaluate its business. The non-GAAP financial measures used by the company have limitations in their usefulness to investors because they have no standardized meaning prescribed by GAAP and are not prepared under any comprehensive set of accounting rules or principles.\\n\\nForward-Looking Statements This press release and related conference call contain forward-looking statements within the “safe harbor” provisions of the Private Securities Litigation Reform Act of 1995. All statements other than those that are purely historical are forward-looking statements. Words such as “expect,” “anticipate,” “believe,” “estimate,” “intend,” “plan,” “project,” and similar expressions also identify forward-looking statements. Forward-looking statements include statements regarding the following: actions to drive critical change, improve the trajectory of our business and deliver consistent and long-term results; improving near-term execution and brand performance; simplifying our operating model and structure; modernizing our core capabilities; stabilizing Old Navy’s core and elevating the brand’s execution; expanding the BR Home collection; improving our long-term sales and margin performance and creative'\n",
            "4 type='text' text='and product execution; expected cost savings from actions to optimize our operating model and structure, including employee-related actions, and the expected timing of recognizing the benefits thereof; additional opportunities to rationalize investments and further optimize our cost structure; our positioning in fiscal 2023, including to drive margin expansion and improved cash flow; Old Navy’s positioning and value proposition; making meaningful change to Athleta’s assortments; effectively managing inventory and integrating pack and hold inventory in fiscal 2023; expected ending inventory in fiscal 2023; expected cash flow trends through fiscal 2023; paying down our asset-backed line of credit in fiscal 2023; our dividend strategy; the expected impact of the Gap China transition, foreign exchange headwinds and an additional fiscal week on second quarter and fiscal 2023 net sales; expected second quarter and fiscal 2023 net sales; expected second quarter and fiscal 2023 adjusted gross margin; expected gross margin improvement in fiscal 2023; expected air freight expense in the second quarter and fiscal 2023; expected inflationary impacts, including commodity costs and ocean freight rates, in the second quarter and fiscal 2023; expected inventory positions and promotional activity in the second quarter and fiscal 2023; expected ROD in the second quarter and fiscal 2023; expected adjusted operating expenses/adjusted SG&A in the second quarter and fiscal 2023; incentive compensation and wage inflation in the second quarter and fiscal 2023; expected capital expenditures in fiscal 2023; expected capital project investments in fiscal 2023; and expected store openings and closings in fiscal 2023.'\n",
            "5 type='text' text='Because these forward-looking statements involve risks and uncertainties, there are important factors that could cause our actual results to differ materially from those in the forward-looking statements. These factors include, without limitation, the following risks, any of which could have an adverse effect on our financial condition, results of operations, and reputation: the overall global economic and geopolitical environment and the impact on consumer spending patterns; the risk that inflationary pressures continue to negatively impact gross margins or that we are unable to pass along price increases; the risk that restructuring our business may not generate the intended benefits and projected cost savings to the extent or on the timeline as expected; the risk that we or our franchisees may be unsuccessful in gauging apparel trends and changing consumer preferences or responding with sufficient lead time; the risk that we may be unable to manage or protect our inventory effectively and the resulting impact on our gross margins, sales and results of operations; the risk that we fail to manage key executive succession and retention and to continue to attract and retain qualified personnel; the risk that we fail to maintain, enhance, and protect our brand image and reputation; the highly competitive nature of our business in the United States and internationally; engaging in or seeking to engage in strategic transactions that are subject to various risks and uncertainties; the risk that our investments in customer, digital, and omni-channel shopping initiatives may not deliver the results we anticipate; the risks to our business, including our costs and supply chain, associated with global sourcing and manufacturing; the risks to our reputation or operations associated with importing merchandise from foreign countries, including failure of our vendors to adhere to our Code of Vendor Conduct; the risk of data or other security breaches or vulnerabilities that may result in increased costs, violations of law, significant legal and financial exposure, and a loss of confidence in our security measures; the risk that failures of, or updates or changes to, our IT systems may disrupt our operations; natural disasters, public health crises, political crises, negative global climate patterns, or other catastrophic events; the ongoing conflict between Russia and Ukraine and the impact on global market stability; the risk that our efforts to expand internationally may not be successful; the risk that our franchisees and licensees could impair the value of our brands or fail to make payments for which we are liable; the risk that trade matters could increase the cost or reduce the supply of apparel available to us; the risk of foreign currency exchange rate fluctuations; the risk that our comparable sales and margins may experience fluctuations, that the seasonality of our business may experience changes, or'\n",
            "6 type='text' text='that we may fail to meet financial market expectations; the risk that we or our franchisees may be unsuccessful in identifying, negotiating, and securing new store locations and renewing, modifying, or terminating leases for existing store locations effectively; the adverse effects of climate change on our operations and those of our franchisees, vendors and other business partners; the risk that we will not be successful in defending various proceedings, lawsuits, disputes, and claims; our failure to comply with applicable laws and regulations and changes in the regulatory or administrative landscape; our failure to satisfy regulations and market expectations related to our ESG initiatives; reductions in income and cash flow from our credit card arrangement related to our private label and co-branded credit cards; the risk that worsening global economic and geopolitical conditions could result in changes to the assumptions and estimates used when preparing the Condensed Consolidated Financial Statements; the risk that changes in our business structure, our performance or our industry could result in reductions in our pre- tax income or utilization of existing tax carryforwards in future periods, and require additional deferred tax valuation allowances; the risk that changes in the geographic mix and level of income or losses, the expected or actual outcome of audits, changes in deferred tax valuation allowances, and new legislation could impact our effective tax rate; the risk that our level of indebtedness may impact our ability to operate and expand our business; the risk that we and our subsidiaries may be unable to meet our obligations under our indebtedness agreements; the risk that changes in our credit profile or deterioration in market conditions may limit our access to the capital markets; the risk that the adoption of new accounting pronouncements will impact future results; and the risk that additional information may arise during our close process or as a result of subsequent events that would require us to make adjustments to our financial information.\\n\\nAdditional information regarding factors that could cause results to differ can be found in our Annual Report on Form 10-K filed with the Securities and Exchange Commission on March 14, 2023, as well as our subsequent filings with the Securities and Exchange Commission.\\n\\nThese forward-looking statements are based on information as of May 25, 2023. We assume no obligation to publicly update or revise our forward-looking statements even if experience or future changes make it clear that any projected results expressed or implied therein will not be realized.\\n\\nAbout Gap Inc. Gap Inc., a collection of purpose-led lifestyle brands, is the largest American specialty apparel company offering clothing, accessories, and personal care products for men, women, and children under the Old Navy, Gap, Banana Republic, and Athleta brands. The company uses omni-channel capabilities to bridge the digital world and physical stores to further enhance its shopping experience. Gap Inc. is guided by its purpose, Inclusive, by Design, and takes pride in creating products and experiences its customers love while doing right by its employees, communities, and planet. Gap Inc. products are available for purchase worldwide through company-operated stores, franchise stores, and e-commerce sites. Fiscal year 2022 net sales were $15.6 billion. For more information, please visit www.gapinc.com.'\n",
            "7 type='text' text='Investor Relations Contact: Nina Bari Investor_relations@gap.com\\n\\nMedia Relations Contact: Megan Foote Press@gap.com\\n\\nThe Gap, Inc. CONDENSED CONSOLIDATED BALANCE SHEETS UNAUDITED'\n",
            "8 type='text' text='The Gap, Inc. CONDENSED CONSOLIDATED STATEMENTS OF OPERATIONS UNAUDITED'\n",
            "9 type='text' text='The Gap, Inc. CONDENSED CONSOLIDATED STATEMENTS OF CASH FLOWS UNAUDITED'\n",
            "10 type='text' text='(a) For the thirteen weeks ended April 29, 2023 and April 30, 2022, total cash, cash equivalents, and restricted cash includes $28 million and $26 million, respectively, of restricted cash recorded within other long-term assets on the Condensed Consolidated Balance Sheets.\\n\\nThe Gap, Inc. NON-GAAP FINANCIAL MEASURES UNAUDITED\\n\\nFREE CASH FLOW\\n\\nFree cash flow is a non-GAAP financial measure. We believe free cash flow is an important metric because it represents a measure of how much cash a company has available for discretionary and non-discretionary items after the deduction of capital expenditures. We require regular capital expenditures including technology improvements as well as building and maintaining our stores and distribution centers. We use this metric internally, as we believe our sustained ability to generate free cash flow is an important driver of value creation. However, this non-GAAP financial measure is not intended to supersede or replace our GAAP results.'\n",
            "11 type='text' text=\"The Gap, Inc. NON-GAAP FINANCIAL MEASURES UNAUDITED\\n\\nADJUSTED STATEMENT OF OPERATIONS METRICS FOR THE FIRST QUARTER 2023\\n\\nThe following adjusted statement of operations metrics are non-GAAP financial measures. These measures are provided to enhance visibility into the Company's underlying results for the period excluding the impact of restructuring costs and a gain on sale of building. Management believes the adjusted metrics are useful for the assessment of ongoing operations as we believe the adjusted items are not indicative of our ongoing operations, and provide additional information to investors to facilitate the comparison of results against past and future years. However, these non-GAAP financial measures are not intended to supersede or replace the GAAP measures.\"\n",
            "12 type='text' text='____________________\\n\\n(a) Includes $62 million of employee-related costs and $13 million of consulting and other associated costs related to our previously announced actions to further simplify and optimize our operating model and structure.\\n\\n(b) Metrics were computed individually for each line item; therefore, the sum of the individual lines may not equal the total.\\n\\nThe Gap, Inc. NET SALES RESULTS UNAUDITED\\n\\nThe following table details the Company’s first quarter fiscal year 2023 and 2022 net sales (unaudited):\\n\\n($ in millions)'\n",
            "13 type='text' text='____________________\\n\\n(1) U.S. includes the United States and Puerto Rico.\\n\\n(2) Primarily consists of net sales from revenue-generating strategic initiatives.\\n\\nThe Gap, Inc. REAL ESTATE\\n\\nStore count, openings, closings, and square footage for our stores are as follows:'\n",
            "14 type='text' text='____________________\\n\\n(1) The 89 Gap China stores that were transitioned to Baozun during the period are not included as store closures or openings for Company-operated and Franchise store activity. The ending balance for Gap Asia excludes Gap China stores and the ending balance for Franchise includes Gap China locations transitioned during the period.'\n"
          ]
        }
      ]
    },
    {
      "cell_type": "code",
      "source": [
        "print('將下列印出的表格一內容貼進去GPT https://chat.openai.com/')\n",
        "print('')\n",
        "print('You are responsible for concisely summarizing table or text chunk')\n",
        "print(table_elements[1].text)"
      ],
      "metadata": {
        "id": "2MHVE_chKqho",
        "outputId": "3a5d96e1-28a6-454c-8805-0be849b77085",
        "colab": {
          "base_uri": "https://localhost:8080/"
        }
      },
      "execution_count": 19,
      "outputs": [
        {
          "output_type": "stream",
          "name": "stdout",
          "text": [
            "將下列文字貼進去GPT https://chat.openai.com/\n",
            "\n",
            "You are responsible for concisely summarizing table or text chunk\n",
            "($ and shares in millions except per share amounts) Net sales Cost of goods sold and occupancy expenses Gross profit Operating expenses Operating loss Interest, net Loss before income taxes Income tax benefit Net loss Weighted-average number of shares - basic Weighted-average number of shares - diluted Net loss per share - basic Net loss per share - diluted 13 Weeks Ended April 29, 2023 April 30, 2022 $ 3,276 2,062 1,214 1,224 (10) 10 (20) (2) (18) $ 3,477 2,381 1,096 1,293 (197) 19 (216) (54) (162) $ $ 367 367 370 370 $ $ (0.05) (0.05) $ $ (0.44) (0.44)\n"
          ]
        }
      ]
    },
    {
      "cell_type": "code",
      "source": [],
      "metadata": {
        "id": "BoaVeZxUgipf"
      },
      "execution_count": null,
      "outputs": []
    }
  ]
}