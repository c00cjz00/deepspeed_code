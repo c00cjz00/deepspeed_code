{
  "nbformat": 4,
  "nbformat_minor": 0,
  "metadata": {
    "colab": {
      "provenance": [],
      "gpuType": "T4"
    },
    "kernelspec": {
      "name": "python3",
      "display_name": "Python 3"
    },
    "language_info": {
      "name": "python"
    },
    "accelerator": "GPU"
  },
  "cells": [
    {
      "cell_type": "markdown",
      "source": [],
      "metadata": {
        "id": "QDDv7TryIZE2"
      }
    },
    {
      "cell_type": "code",
      "source": [
        "# 下載檔案\n",
        "!gdown 1WaKegKk4J3cf1iHghgSRmgrt0MlWIpkq -O ./"
      ],
      "metadata": {
        "id": "TkKAWUq-IadR"
      },
      "execution_count": null,
      "outputs": []
    },
    {
      "cell_type": "code",
      "source": [
        "# Install Requirements\n",
        "!apt-get -qq install poppler-utils tesseract-ocrlibtesseract-dev tesseract-ocr-chi-sim tesseract-ocr-chi-tra tesseract-ocr-chi-sim-vert tesseract-ocr-chi-tra-vert\n",
        "# Upgrade Pillow to latest version\n",
        "%pip install -q --user --upgrade pillow\n",
        "# Install Python Packages\n",
        "%pip install -q unstructured[\"all-docs\"]==0.16.9\n",
        "# NOTE: you may also upgrade to the latest version with the command below,\n",
        "#       though a more recent version of unstructured will not have been tested with this notebook\n",
        "%pip install -q --upgrade unstructured"
      ],
      "metadata": {
        "id": "rJrV2TsF7ZAO"
      },
      "execution_count": null,
      "outputs": []
    },
    {
      "cell_type": "code",
      "source": [
        "## 請先點選工作列 [執行階段]-> 重新啟動工作階段\n",
        "## 請先點選工作列 [編輯]-> 清除所有輸出內容\n",
        "## 右側RAM/磁碟標記 -> 變更執行階段 -> T4 GPU\n",
        "# Read PDF\n",
        "from typing import Any\n",
        "from pydantic import BaseModel\n",
        "from unstructured.partition.pdf import partition_pdf\n",
        "#from unstructured.partition.auto import partition\n",
        "# 使用 unstructured.io 解析中文文本\n",
        "#elements = partition(file=file_io, languages=[\"chi_sim\"])\n",
        "\n",
        "#1\n",
        "raw_pdf_elements = partition_pdf(\n",
        "    filename=\"./1Q23-EPR-with-Tables-FINAL.pdf\",\n",
        "    languages=[\"chi_tra\", \"chi_tra_vert\",\"chi_sim\", \"chi_sim_vert\"],\n",
        "    #languages=[\"chi_tra\", \"chi_tra_vert\",\"chi_sim\", \"chi_sim_vert\"])\n",
        "    extract_images_in_pdf=False,\n",
        "    infer_table_structure=True,\n",
        "    #include_page_breaks=True,\n",
        "    chunking_strategy=\"by_title\",\n",
        "    max_characters=4000,\n",
        "    new_after_n_chars=3800,\n",
        "    combine_text_under_n_chars=2000,\n",
        "    image_output_dir_path=\"./im2\",\n",
        ")\n",
        "\n",
        "#2\n",
        "category_counts = {}\n",
        "\n",
        "for element in raw_pdf_elements:\n",
        "    category = str(type(element))\n",
        "    if category in category_counts:\n",
        "        category_counts[category] += 1\n",
        "    else:\n",
        "        category_counts[category] = 1\n",
        "\n",
        "unique_categories = set(category_counts.keys())\n",
        "category_counts\n",
        "\n",
        "#3\n",
        "class Element(BaseModel):\n",
        "    type: str\n",
        "    text: Any\n",
        "\n",
        "table_elements = []\n",
        "text_elements = []\n",
        "all_elements = []\n",
        "for element in raw_pdf_elements:\n",
        "    if \"unstructured.documents.elements.Table\" in str(type(element)):\n",
        "        text=str(element)\n",
        "        text = ''.join(text.split())\n",
        "        table_elements.append(Element(type=\"table\", text=text))\n",
        "        all_elements.append(Element(type=\"table\", text=text))\n",
        "    elif \"unstructured.documents.elements.CompositeElement\" in str(type(element)):\n",
        "        text=str(element)\n",
        "        text = ''.join(text.split())\n",
        "        text_elements.append(Element(type=\"text\", text=text))\n",
        "        all_elements.append(Element(type=\"text\", text=text))\n",
        "\n",
        "#4\n",
        "print(len(table_elements))\n",
        "print(len(text_elements))\n",
        "print(len(all_elements))\n"
      ],
      "metadata": {
        "id": "JYHnfEX-Iy8y"
      },
      "execution_count": null,
      "outputs": []
    },
    {
      "cell_type": "code",
      "source": [
        "for i, table in enumerate(table_elements):\n",
        "    print('cutoff', i, table)\n",
        "for i, all in enumerate(all_elements):\n",
        "    print('cutoff', i, all)"
      ],
      "metadata": {
        "id": "zryQkewS_Z7z"
      },
      "execution_count": null,
      "outputs": []
    },
    {
      "cell_type": "code",
      "source": [
        "# 印出表單\n",
        "for i, table in enumerate(table_elements):\n",
        "    print(i, table)"
      ],
      "metadata": {
        "id": "TuoI1IMBJLHV"
      },
      "execution_count": null,
      "outputs": []
    },
    {
      "cell_type": "code",
      "source": [
        "# 印出段落\n",
        "for i, text in enumerate(text_elements):\n",
        "    print(i, text)"
      ],
      "metadata": {
        "id": "WxypgEnVKAN8"
      },
      "execution_count": null,
      "outputs": []
    },
    {
      "cell_type": "code",
      "source": [
        "print('將下列印出的表格一內容貼進去GPT https://chat.openai.com/')\n",
        "print('')\n",
        "print('You are responsible for concisely summarizing table or text chunk')\n",
        "print(table_elements[1].text)"
      ],
      "metadata": {
        "id": "2MHVE_chKqho"
      },
      "execution_count": null,
      "outputs": []
    },
    {
      "cell_type": "markdown",
      "source": [
        "# 翻譯\n",
        "I want you to act as an Chinese translator, spelling corrector and improver. I will speak to you in any language and you will detect the language, translate it and answer in the corrected and improved version of my text, in Chinese. I want you to replace my simplified A0-level words and sentences with more beautiful and elegant, upper level Chinese words and sentences. Keep the meaning same, but make them more literary. I want you to only reply the correction, the improvements and nothing else, do not write explanations.  \n",
        "\n",
        "Translate the previous conversation"
      ],
      "metadata": {
        "id": "_4JKVk6hk0ZP"
      }
    },
    {
      "cell_type": "markdown",
      "source": [],
      "metadata": {
        "id": "DF_cuKgxk0f5"
      }
    }
  ]
}