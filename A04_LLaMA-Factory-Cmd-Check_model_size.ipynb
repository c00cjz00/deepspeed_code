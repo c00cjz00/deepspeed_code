{
 "cells": [
  {
   "cell_type": "markdown",
   "metadata": {
    "id": "ORCx8i1o1ZK9",
    "tags": []
   },
   "source": [
    "# A04_LLaMA-Factory-Cmd-Check_model_size"
   ]
  },
  {
   "cell_type": "markdown",
   "metadata": {
    "id": "PAnZLFDg1ZLC"
   },
   "source": [
    "## 初始環境設定\n",
    "- 重新reload kernel, 並切換到 kernel Image_S-work-LlamaFactory_c00cjz00_cuda11.8_pytorch_2.1.2-cuda11.8-cudnn8-devel"
   ]
  },
  {
   "cell_type": "code",
   "execution_count": 1,
   "metadata": {
    "id": "3UgaDyzu1ZLD",
    "tags": []
   },
   "outputs": [],
   "source": [
    "# 初始環境設定\n",
    "import os\n",
    "from pathlib import Path\n",
    "HOME = str(Path.home())\n",
    "Add_Binarry_Path=HOME+'/.local/bin'\n",
    "os.environ['PATH']=os.environ['PATH']+':'+Add_Binarry_Path"
   ]
  },
  {
   "cell_type": "code",
   "execution_count": 2,
   "metadata": {
    "tags": []
   },
   "outputs": [
    {
     "name": "stdout",
     "output_type": "stream",
     "text": [
      "Tue Mar 12 07:56:32 2024       \n",
      "+-----------------------------------------------------------------------------+\n",
      "| NVIDIA-SMI 510.47.03    Driver Version: 510.47.03    CUDA Version: 11.6     |\n",
      "|-------------------------------+----------------------+----------------------+\n",
      "| GPU  Name        Persistence-M| Bus-Id        Disp.A | Volatile Uncorr. ECC |\n",
      "| Fan  Temp  Perf  Pwr:Usage/Cap|         Memory-Usage | GPU-Util  Compute M. |\n",
      "|                               |                      |               MIG M. |\n",
      "|===============================+======================+======================|\n",
      "|   0  Tesla V100-SXM2...  Off  | 00000000:1B:00.0 Off |                    0 |\n",
      "| N/A   57C    P0   216W / 300W |  14914MiB / 32768MiB |     94%      Default |\n",
      "|                               |                      |                  N/A |\n",
      "+-------------------------------+----------------------+----------------------+\n",
      "|   1  Tesla V100-SXM2...  Off  | 00000000:3D:00.0 Off |                    0 |\n",
      "| N/A   34C    P0    40W / 300W |      3MiB / 32768MiB |      0%      Default |\n",
      "|                               |                      |                  N/A |\n",
      "+-------------------------------+----------------------+----------------------+\n",
      "|   2  Tesla V100-SXM2...  Off  | 00000000:B1:00.0 Off |                    0 |\n",
      "| N/A   33C    P0    40W / 300W |      3MiB / 32768MiB |      0%      Default |\n",
      "|                               |                      |                  N/A |\n",
      "+-------------------------------+----------------------+----------------------+\n",
      "|   3  Tesla V100-SXM2...  Off  | 00000000:B2:00.0 Off |                    0 |\n",
      "| N/A   33C    P0    41W / 300W |      3MiB / 32768MiB |      0%      Default |\n",
      "|                               |                      |                  N/A |\n",
      "+-------------------------------+----------------------+----------------------+\n",
      "                                                                               \n",
      "+-----------------------------------------------------------------------------+\n",
      "| Processes:                                                                  |\n",
      "|  GPU   GI   CI        PID   Type   Process name                  GPU Memory |\n",
      "|        ID   ID                                                   Usage      |\n",
      "|=============================================================================|\n",
      "|    0   N/A  N/A    172707      C   python                          14911MiB |\n",
      "+-----------------------------------------------------------------------------+\n"
     ]
    },
    {
     "data": {
      "text/plain": [
       "True"
      ]
     },
     "execution_count": 2,
     "metadata": {},
     "output_type": "execute_result"
    }
   ],
   "source": [
    "# GPU確認\n",
    "!nvidia-smi\n",
    "import torch\n",
    "torch.cuda.is_available()"
   ]
  },
  {
   "cell_type": "code",
   "execution_count": 3,
   "metadata": {
    "tags": []
   },
   "outputs": [],
   "source": [
    "# 套件安裝 (此映像檔已經安裝以下套件, 若使用其他映像檔, 請移除 ## 安裝以下套件)\n",
    "##!pip install llmtuner==0.5.3 deepspeed==0.13.1  bitsandbytes==0.42.0 -q \n",
    "##!pip install deepspeed==0.13.1 -q\n",
    "##!pip install bitsandbytes==0.42.0 -q"
   ]
  },
  {
   "cell_type": "markdown",
   "metadata": {},
   "source": [
    "## Deepspeed Stage2, 7B"
   ]
  },
  {
   "cell_type": "code",
   "execution_count": 4,
   "metadata": {},
   "outputs": [
    {
     "name": "stdout",
     "output_type": "stream",
     "text": [
      "[2024-03-12 07:56:40,172] [INFO] [real_accelerator.py:191:get_accelerator] Setting ds_accelerator to cuda (auto detect)\n"
     ]
    },
    {
     "data": {
      "application/vnd.jupyter.widget-view+json": {
       "model_id": "d184ef8a42e44ba9a08b6fa9e62d5934",
       "version_major": 2,
       "version_minor": 0
      },
      "text/plain": [
       "Loading checkpoint shards:   0%|          | 0/2 [00:00<?, ?it/s]"
      ]
     },
     "metadata": {},
     "output_type": "display_data"
    },
    {
     "name": "stdout",
     "output_type": "stream",
     "text": [
      "Estimated memory needed for params, optim states and gradients for a:\n",
      "HW: Setup with 1 node, 1 GPU per node.\n",
      "SW: Model with 6607M total params.\n",
      "  per CPU  |  per GPU |   Options\n",
      "  147.69GB |  12.31GB | offload_optimizer=cpu \n",
      "   36.92GB | 123.07GB | offload_optimizer=none\n",
      "Estimated memory needed for params, optim states and gradients for a:\n",
      "HW: Setup with 1 node, 2 GPUs per node.\n",
      "SW: Model with 6607M total params.\n",
      "  per CPU  |  per GPU |   Options\n",
      "  147.69GB |  12.31GB | offload_optimizer=cpu \n",
      "   73.84GB |  73.84GB | offload_optimizer=none\n",
      "Estimated memory needed for params, optim states and gradients for a:\n",
      "HW: Setup with 1 node, 4 GPUs per node.\n",
      "SW: Model with 6607M total params.\n",
      "  per CPU  |  per GPU |   Options\n",
      "  147.69GB |  12.31GB | offload_optimizer=cpu \n",
      "  147.69GB |  49.23GB | offload_optimizer=none\n",
      "Estimated memory needed for params, optim states and gradients for a:\n",
      "HW: Setup with 1 node, 8 GPUs per node.\n",
      "SW: Model with 6607M total params.\n",
      "  per CPU  |  per GPU |   Options\n",
      "  295.37GB |  12.31GB | offload_optimizer=cpu \n",
      "  295.37GB |  36.92GB | offload_optimizer=none\n"
     ]
    }
   ],
   "source": [
    "from transformers import AutoModel\n",
    "from deepspeed.runtime.zero.stage_1_and_2 import estimate_zero2_model_states_mem_needs_all_live\n",
    "model = AutoModel.from_pretrained(\"/work/u00cjz00/slurm_jobs/github/models/Llama-2-7b-chat-hf\")\n",
    "estimate_zero2_model_states_mem_needs_all_live(model, num_gpus_per_node=1, num_nodes=1)\n",
    "estimate_zero2_model_states_mem_needs_all_live(model, num_gpus_per_node=2, num_nodes=1)\n",
    "estimate_zero2_model_states_mem_needs_all_live(model, num_gpus_per_node=4, num_nodes=1)\n",
    "estimate_zero2_model_states_mem_needs_all_live(model, num_gpus_per_node=8, num_nodes=1)"
   ]
  },
  {
   "cell_type": "markdown",
   "metadata": {},
   "source": [
    "## Deepspeed Stage3, 7B"
   ]
  },
  {
   "cell_type": "code",
   "execution_count": 9,
   "metadata": {
    "tags": []
   },
   "outputs": [
    {
     "data": {
      "application/vnd.jupyter.widget-view+json": {
       "model_id": "2c8290a977c64310bb7566bb09a7d644",
       "version_major": 2,
       "version_minor": 0
      },
      "text/plain": [
       "Loading checkpoint shards:   0%|          | 0/2 [00:00<?, ?it/s]"
      ]
     },
     "metadata": {},
     "output_type": "display_data"
    },
    {
     "name": "stdout",
     "output_type": "stream",
     "text": [
      "Estimated memory needed for params, optim states and gradients for a:\n",
      "HW: Setup with 1 node, 1 GPU per node.\n",
      "SW: Model with 6607M total params, 131M largest layer params.\n",
      "  per CPU  |  per GPU |   Options\n",
      "  166.15GB |   0.49GB | offload_param=cpu , offload_optimizer=cpu , zero_init=1\n",
      "  166.15GB |   0.49GB | offload_param=cpu , offload_optimizer=cpu , zero_init=0\n",
      "  147.69GB |  12.80GB | offload_param=none, offload_optimizer=cpu , zero_init=1\n",
      "  147.69GB |  12.80GB | offload_param=none, offload_optimizer=cpu , zero_init=0\n",
      "    0.73GB | 111.25GB | offload_param=none, offload_optimizer=none, zero_init=1\n",
      "   36.92GB | 111.25GB | offload_param=none, offload_optimizer=none, zero_init=0\n",
      "Estimated memory needed for params, optim states and gradients for a:\n",
      "HW: Setup with 2 nodes, 1 GPU per node.\n",
      "SW: Model with 6607M total params, 131M largest layer params.\n",
      "  per CPU  |  per GPU |   Options\n",
      "   83.07GB |   0.49GB | offload_param=cpu , offload_optimizer=cpu , zero_init=1\n",
      "   83.07GB |   0.49GB | offload_param=cpu , offload_optimizer=cpu , zero_init=0\n",
      "   73.84GB |   6.64GB | offload_param=none, offload_optimizer=cpu , zero_init=1\n",
      "   73.84GB |   6.64GB | offload_param=none, offload_optimizer=cpu , zero_init=0\n",
      "    0.73GB |  55.87GB | offload_param=none, offload_optimizer=none, zero_init=1\n",
      "   36.92GB |  55.87GB | offload_param=none, offload_optimizer=none, zero_init=0\n"
     ]
    }
   ],
   "source": [
    "from transformers import AutoModel\n",
    "from deepspeed.runtime.zero.stage3 import estimate_zero3_model_states_mem_needs_all_live\n",
    "model = AutoModel.from_pretrained(\"/work/u00cjz00/slurm_jobs/github/models/Llama-2-7b-chat-hf\")\n",
    "estimate_zero3_model_states_mem_needs_all_live(model, num_gpus_per_node=1, num_nodes=1)\n",
    "estimate_zero3_model_states_mem_needs_all_live(model, num_gpus_per_node=1, num_nodes=2)\n",
    "#estimate_zero3_model_states_mem_needs_all_live(model, num_gpus_per_node=1, num_nodes=4)\n",
    "#estimate_zero3_model_states_mem_needs_all_live(model, num_gpus_per_node=1, num_nodes=8)\n",
    "#estimate_zero3_model_states_mem_needs_all_live(model, num_gpus_per_node=4, num_nodes=2)\n",
    "#estimate_zero3_model_states_mem_needs_all_live(model, num_gpus_per_node=8, num_nodes=2)"
   ]
  },
  {
   "cell_type": "code",
   "execution_count": null,
   "metadata": {},
   "outputs": [],
   "source": []
  }
 ],
 "metadata": {
  "accelerator": "GPU",
  "colab": {
   "provenance": []
  },
  "kernelspec": {
   "display_name": "Image_S-work-DEMO_c00cjz00_cuda11.8_pytorch_2.1.2-cuda11.8-cudnn8-devel-llama_factory",
   "language": "python",
   "name": "s-work-demo_c00cjz00_cuda11.8_pytorch_2.1.2-cuda11.8-cudnn8-devel-llama_factory"
  },
  "language_info": {
   "codemirror_mode": {
    "name": "ipython",
    "version": 3
   },
   "file_extension": ".py",
   "mimetype": "text/x-python",
   "name": "python",
   "nbconvert_exporter": "python",
   "pygments_lexer": "ipython3",
   "version": "3.10.13"
  }
 },
 "nbformat": 4,
 "nbformat_minor": 4
}
