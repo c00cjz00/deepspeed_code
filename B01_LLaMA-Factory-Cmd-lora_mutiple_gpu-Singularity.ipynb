{
 "cells": [
  {
   "cell_type": "markdown",
   "metadata": {
    "id": "ORCx8i1o1ZK9",
    "tags": []
   },
   "source": [
    "# B01_LLaMA-Factory-Cmd-lora_mutiple_gpu-Singularity"
   ]
  },
  {
   "cell_type": "markdown",
   "metadata": {
    "id": "PAnZLFDg1ZLC"
   },
   "source": [
    "## 環境安裝\n",
    "- 切換到原生 Python 3 (ipykernel)"
   ]
  },
  {
   "cell_type": "raw",
   "metadata": {
    "tags": []
   },
   "source": [
    "## 下載 LLaMA-Factory 套件\n",
    "!rm -rf LLaMA-Factory\n",
    "!git clone https://github.com/hiyouga/LLaMA-Factory.git"
   ]
  },
  {
   "cell_type": "markdown",
   "metadata": {},
   "source": [
    "## SFT (lora in mutple GPU with singularity)"
   ]
  },
  {
   "cell_type": "code",
   "execution_count": 3,
   "metadata": {
    "tags": []
   },
   "outputs": [
    {
     "name": "stdout",
     "output_type": "stream",
     "text": [
      "#!/bin/bash\n",
      "\n",
      "# 虛擬絕對路徑\n",
      "cd /DEEPSPEED/LLaMA-Factory\n",
      "\n",
      "HF_TOKEN='hf_' nohup deepspeed --num_gpus 2 src/train_bash.py \\\n",
      "    --deepspeed examples/full_multi_gpu/ds_z3_config.json \\\n",
      "    --stage sft \\\n",
      "    --do_train \\\n",
      "    --model_name_or_path /work/u00cjz00/slurm_jobs/github/models/Llama-2-7b-chat-hf \\\n",
      "    --dataset alpaca_gpt4_en,glaive_toolcall \\\n",
      "    --dataset_dir data \\\n",
      "    --template default \\\n",
      "    --finetuning_type lora \\\n",
      "    --lora_target q_proj,v_proj \\\n",
      "    --output_dir ../saves/LLaMA2-7B/lora/sft \\\n",
      "    --overwrite_cache \\\n",
      "    --overwrite_output_dir \\\n",
      "    --cutoff_len 1024 \\\n",
      "    --per_device_train_batch_size 1 \\\n",
      "    --per_device_eval_batch_size 1 \\\n",
      "    --gradient_accumulation_steps 8 \\\n",
      "    --lr_scheduler_type cosine \\\n",
      "    --logging_steps 10 \\\n",
      "    --save_steps 100 \\\n",
      "    --eval_steps 100 \\\n",
      "    --evaluation_strategy steps \\\n",
      "    --load_best_model_at_end \\\n",
      "    --learning_rate 5e-5 \\\n",
      "    --num_train_epochs 3.0 \\\n",
      "    --max_samples 1000 \\\n",
      "    --val_size 0.1 \\\n",
      "    --plot_loss \\\n",
      "    --fp16 \n",
      "\n"
     ]
    }
   ],
   "source": [
    "%%bash\n",
    "## qlora in single GPU (bitsandbytes) \n",
    "## 啟動 Llama-Factory Cmd\n",
    "## 請記得修改最後一行, 給予huggingface token,  HF_TOKEN='hf_' ?\n",
    "## 記錄檔案為 llamafactory.log \n",
    "## 量化請加上     --quantization_bit 4 \\\n",
    "\n",
    "cat << \\\\EOF >  demo.cmd\n",
    "#!/bin/bash\n",
    "\n",
    "# 虛擬絕對路徑\n",
    "cd /DEEPSPEED/LLaMA-Factory\n",
    "\n",
    "HF_TOKEN='hf_' nohup deepspeed --num_gpus 2 src/train_bash.py \\\n",
    "    --deepspeed examples/full_multi_gpu/ds_z3_config.json \\\n",
    "    --stage sft \\\n",
    "    --do_train \\\n",
    "    --model_name_or_path /work/u00cjz00/slurm_jobs/github/models/Llama-2-7b-chat-hf \\\n",
    "    --dataset alpaca_gpt4_en,glaive_toolcall \\\n",
    "    --dataset_dir data \\\n",
    "    --template default \\\n",
    "    --finetuning_type lora \\\n",
    "    --lora_target q_proj,v_proj \\\n",
    "    --output_dir ../saves/LLaMA2-7B/lora/sft \\\n",
    "    --overwrite_cache \\\n",
    "    --overwrite_output_dir \\\n",
    "    --cutoff_len 1024 \\\n",
    "    --per_device_train_batch_size 1 \\\n",
    "    --per_device_eval_batch_size 1 \\\n",
    "    --gradient_accumulation_steps 8 \\\n",
    "    --lr_scheduler_type cosine \\\n",
    "    --logging_steps 10 \\\n",
    "    --save_steps 100 \\\n",
    "    --eval_steps 100 \\\n",
    "    --evaluation_strategy steps \\\n",
    "    --load_best_model_at_end \\\n",
    "    --learning_rate 5e-5 \\\n",
    "    --num_train_epochs 3.0 \\\n",
    "    --max_samples 1000 \\\n",
    "    --val_size 0.1 \\\n",
    "    --plot_loss \\\n",
    "    --fp16 \n",
    "\n",
    "\\EOF\n",
    "\n",
    "chmod 755 demo.cmd\n",
    "\n",
    "cat demo.cmd"
   ]
  },
  {
   "cell_type": "code",
   "execution_count": null,
   "metadata": {
    "tags": []
   },
   "outputs": [
    {
     "name": "stderr",
     "output_type": "stream",
     "text": [
      "Lmod has detected the following error: The following module(s) are unknown:\n",
      "\"libs/singularity/3.10.2\"\n",
      "\n",
      "Please check the spelling or version number. Also try \"module spider ...\"\n",
      "It is also possible your cache file is out-of-date; it may help to try:\n",
      "  $ module --ignore-cache load \"libs/singularity/3.10.2\"\n",
      "\n",
      "Also make sure that all modulefiles written in TCL start with the string\n",
      "#%Module\n",
      "\n",
      "\n",
      "\n"
     ]
    },
    {
     "name": "stdout",
     "output_type": "stream",
     "text": [
      "[2024-03-12 08:12:28,557] [INFO] [real_accelerator.py:191:get_accelerator] Setting ds_accelerator to cuda (auto detect)\n",
      "[2024-03-12 08:12:30,015] [WARNING] [runner.py:202:fetch_hostfile] Unable to find hostfile, will proceed with training with local resources only.\n",
      "Detected CUDA_VISIBLE_DEVICES=0,1 but ignoring it because one or several of --include/--exclude/--num_gpus/--num_nodes cl args were used. If you want to use CUDA_VISIBLE_DEVICES don't pass any of these arguments to deepspeed.\n",
      "[2024-03-12 08:12:30,015] [INFO] [runner.py:568:main] cmd = /opt/conda/bin/python -u -m deepspeed.launcher.launch --world_info=eyJsb2NhbGhvc3QiOiBbMCwgMV19 --master_addr=127.0.0.1 --master_port=29500 --enable_each_rank_log=None src/train_bash.py --deepspeed examples/full_multi_gpu/ds_z3_config.json --stage sft --do_train --model_name_or_path /work/u00cjz00/slurm_jobs/github/models/Llama-2-7b-chat-hf --dataset alpaca_gpt4_en,glaive_toolcall --dataset_dir data --template default --finetuning_type lora --lora_target q_proj,v_proj --output_dir ../saves/LLaMA2-7B/lora/sft --overwrite_cache --overwrite_output_dir --cutoff_len 1024 --per_device_train_batch_size 1 --per_device_eval_batch_size 1 --gradient_accumulation_steps 8 --lr_scheduler_type cosine --logging_steps 10 --save_steps 100 --eval_steps 100 --evaluation_strategy steps --load_best_model_at_end --learning_rate 5e-5 --num_train_epochs 3.0 --max_samples 1000 --val_size 0.1 --plot_loss --fp16\n",
      "[2024-03-12 08:12:31,831] [INFO] [real_accelerator.py:191:get_accelerator] Setting ds_accelerator to cuda (auto detect)\n",
      "[2024-03-12 08:12:32,683] [INFO] [launch.py:138:main] 0 NV_LIBNCCL_DEV_PACKAGE=libnccl-dev=2.16.2-1+cuda11.8\n",
      "[2024-03-12 08:12:32,684] [INFO] [launch.py:138:main] 0 NV_LIBNCCL_DEV_PACKAGE_VERSION=2.16.2-1\n",
      "[2024-03-12 08:12:32,684] [INFO] [launch.py:138:main] 0 NCCL_VERSION=2.16.2-1\n",
      "[2024-03-12 08:12:32,684] [INFO] [launch.py:138:main] 0 NV_LIBNCCL_DEV_PACKAGE_NAME=libnccl-dev\n",
      "[2024-03-12 08:12:32,684] [INFO] [launch.py:138:main] 0 NV_LIBNCCL_PACKAGE=libnccl2=2.16.2-1+cuda11.8\n",
      "[2024-03-12 08:12:32,684] [INFO] [launch.py:138:main] 0 NV_LIBNCCL_PACKAGE_NAME=libnccl2\n",
      "[2024-03-12 08:12:32,684] [INFO] [launch.py:138:main] 0 NV_LIBNCCL_PACKAGE_VERSION=2.16.2-1\n",
      "[2024-03-12 08:12:32,684] [INFO] [launch.py:145:main] WORLD INFO DICT: {'localhost': [0, 1]}\n",
      "[2024-03-12 08:12:32,684] [INFO] [launch.py:151:main] nnodes=1, num_local_procs=2, node_rank=0\n",
      "[2024-03-12 08:12:32,684] [INFO] [launch.py:162:main] global_rank_mapping=defaultdict(<class 'list'>, {'localhost': [0, 1]})\n",
      "[2024-03-12 08:12:32,684] [INFO] [launch.py:163:main] dist_world_size=2\n",
      "[2024-03-12 08:12:32,684] [INFO] [launch.py:165:main] Setting CUDA_VISIBLE_DEVICES=0,1\n",
      "[2024-03-12 08:12:36,952] [INFO] [real_accelerator.py:191:get_accelerator] Setting ds_accelerator to cuda (auto detect)\n",
      "[2024-03-12 08:12:36,954] [INFO] [real_accelerator.py:191:get_accelerator] Setting ds_accelerator to cuda (auto detect)\n"
     ]
    }
   ],
   "source": [
    "%%bash\n",
    "ml libs/singularity/3.10.2\n",
    "singularity exec --nv \\\n",
    "-B $PWD:/DEEPSPEED \\\n",
    "-B /work/u00cjz00/slurm_jobs/github/models/Llama-2-7b-chat-hf \\\n",
    "/work/u00cjz00/nvidia/cuda118/c00cjz00_cuda11.8_pytorch_2.1.2-cuda11.8-cudnn8-devel-llama_factory.sif \\\n",
    "bash -c '/DEEPSPEED/demo.cmd'"
   ]
  },
  {
   "cell_type": "code",
   "execution_count": null,
   "metadata": {},
   "outputs": [],
   "source": []
  }
 ],
 "metadata": {
  "accelerator": "GPU",
  "colab": {
   "provenance": []
  },
  "kernelspec": {
   "display_name": "Python 3 (ipykernel)",
   "language": "python",
   "name": "python3"
  },
  "language_info": {
   "codemirror_mode": {
    "name": "ipython",
    "version": 3
   },
   "file_extension": ".py",
   "mimetype": "text/x-python",
   "name": "python",
   "nbconvert_exporter": "python",
   "pygments_lexer": "ipython3",
   "version": "3.8.16"
  }
 },
 "nbformat": 4,
 "nbformat_minor": 4
}
