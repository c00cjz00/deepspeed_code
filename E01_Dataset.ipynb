{
 "cells": [
  {
   "cell_type": "markdown",
   "metadata": {
    "id": "ORCx8i1o1ZK9",
    "tags": []
   },
   "source": [
    "# 建立訓練資料"
   ]
  },
  {
   "cell_type": "markdown",
   "metadata": {
    "id": "PAnZLFDg1ZLC"
   },
   "source": [
    "## 初始環境設定\n",
    "- 切換到 LLama-factory image kernel"
   ]
  },
  {
   "cell_type": "code",
   "execution_count": 1,
   "metadata": {
    "id": "3UgaDyzu1ZLD",
    "tags": []
   },
   "outputs": [],
   "source": [
    "# 初始環境設定\n",
    "import os\n",
    "from pathlib import Path\n",
    "HOME = str(Path.home())\n",
    "Add_Binarry_Path=HOME+'/.local/bin:/usr/ubuntu_bin'\n",
    "os.environ['PATH']=os.environ['PATH']+':'+Add_Binarry_Path"
   ]
  },
  {
   "cell_type": "code",
   "execution_count": 2,
   "metadata": {
    "tags": []
   },
   "outputs": [
    {
     "name": "stdout",
     "output_type": "stream",
     "text": [
      "Mon Mar 11 19:29:44 2024       \n",
      "+-----------------------------------------------------------------------------+\n",
      "| NVIDIA-SMI 510.47.03    Driver Version: 510.47.03    CUDA Version: 11.6     |\n",
      "|-------------------------------+----------------------+----------------------+\n",
      "| GPU  Name        Persistence-M| Bus-Id        Disp.A | Volatile Uncorr. ECC |\n",
      "| Fan  Temp  Perf  Pwr:Usage/Cap|         Memory-Usage | GPU-Util  Compute M. |\n",
      "|                               |                      |               MIG M. |\n",
      "|===============================+======================+======================|\n",
      "|   0  Tesla V100-SXM2...  Off  | 00000000:1B:00.0 Off |                    0 |\n",
      "| N/A   33C    P0    41W / 300W |      3MiB / 32768MiB |      0%      Default |\n",
      "|                               |                      |                  N/A |\n",
      "+-------------------------------+----------------------+----------------------+\n",
      "|   1  Tesla V100-SXM2...  Off  | 00000000:3D:00.0 Off |                    0 |\n",
      "| N/A   34C    P0    40W / 300W |      3MiB / 32768MiB |      0%      Default |\n",
      "|                               |                      |                  N/A |\n",
      "+-------------------------------+----------------------+----------------------+\n",
      "|   2  Tesla V100-SXM2...  Off  | 00000000:B1:00.0 Off |                    0 |\n",
      "| N/A   33C    P0    40W / 300W |      3MiB / 32768MiB |      0%      Default |\n",
      "|                               |                      |                  N/A |\n",
      "+-------------------------------+----------------------+----------------------+\n",
      "|   3  Tesla V100-SXM2...  Off  | 00000000:B2:00.0 Off |                    0 |\n",
      "| N/A   33C    P0    41W / 300W |      3MiB / 32768MiB |      0%      Default |\n",
      "|                               |                      |                  N/A |\n",
      "+-------------------------------+----------------------+----------------------+\n",
      "                                                                               \n",
      "+-----------------------------------------------------------------------------+\n",
      "| Processes:                                                                  |\n",
      "|  GPU   GI   CI        PID   Type   Process name                  GPU Memory |\n",
      "|        ID   ID                                                   Usage      |\n",
      "|=============================================================================|\n",
      "|  No running processes found                                                 |\n",
      "+-----------------------------------------------------------------------------+\n"
     ]
    },
    {
     "data": {
      "text/plain": [
       "True"
      ]
     },
     "execution_count": 2,
     "metadata": {},
     "output_type": "execute_result"
    }
   ],
   "source": [
    "!nvidia-smi\n",
    "import torch\n",
    "torch.cuda.is_available()"
   ]
  },
  {
   "cell_type": "markdown",
   "metadata": {},
   "source": [
    "## 套件安裝 OPENCC\n",
    "```\n",
    "s2t.json Simplified Chinese to Traditional Chinese 簡體到繁體\n",
    "s2tw.json Simplified Chinese to Traditional Chinese (Taiwan Standard) 簡體到臺灣正體\n",
    "```"
   ]
  },
  {
   "cell_type": "code",
   "execution_count": null,
   "metadata": {
    "tags": []
   },
   "outputs": [],
   "source": [
    "# 映像檔已經安裝\n",
    "#!pip install opencc\n",
    "#!pip install opencc-python-reimplemented"
   ]
  },
  {
   "cell_type": "markdown",
   "metadata": {},
   "source": [
    "## DATASET"
   ]
  },
  {
   "cell_type": "code",
   "execution_count": null,
   "metadata": {
    "tags": []
   },
   "outputs": [],
   "source": [
    "import json\n",
    "from datasets import load_dataset\n",
    "import opencc #繁体简体互转\n",
    "#op_cc=opencc.OpenCC('s2t')\n",
    "op_cc=opencc.OpenCC('s2twp')\n",
    "\n",
    "# 讀取數據集，take可以取得該數據集前n筆資料\n",
    "dataset = load_dataset(\"michaelwzhu/ChatMed_Consult_Dataset\", split=\"train\", streaming=True,encoding='utf-8')\n",
    "\n",
    "# 提取所需欄位並建立新的字典列表\n",
    "limit=0\n",
    "extracted_data = []\n",
    "for example in dataset:\n",
    "    extracted_example = {\n",
    "        \"instruction\": op_cc.convert(\"现在你是一名专业的中医医生，请用你的专业知识提供详尽而清晰的关于中医问题的回答。\"),\n",
    "        \"input\":  op_cc.convert(example[\"query\"]),\n",
    "        \"output\":  op_cc.convert(example[\"response\"])\n",
    "    }\n",
    "    extracted_data.append(extracted_example)\n",
    "    if len(extracted_data) == limit:\n",
    "        break\n",
    "\n",
    "# 指定 JSON 文件名稱\n",
    "json_filename = \"data.json\"\n",
    "\n",
    "# 寫入 JSON 文件\n",
    "with open(json_filename, \"w\") as json_file:\n",
    "    json.dump(extracted_data, json_file, indent=4)\n",
    "\n",
    "print(f\"數據已提取並保存為 {json_filename}\")"
   ]
  },
  {
   "cell_type": "code",
   "execution_count": 4,
   "metadata": {
    "tags": []
   },
   "outputs": [
    {
     "data": {
      "text/html": [
       "<div>\n",
       "<style scoped>\n",
       "    .dataframe tbody tr th:only-of-type {\n",
       "        vertical-align: middle;\n",
       "    }\n",
       "\n",
       "    .dataframe tbody tr th {\n",
       "        vertical-align: top;\n",
       "    }\n",
       "\n",
       "    .dataframe thead th {\n",
       "        text-align: right;\n",
       "    }\n",
       "</style>\n",
       "<table border=\"1\" class=\"dataframe\">\n",
       "  <thead>\n",
       "    <tr style=\"text-align: right;\">\n",
       "      <th></th>\n",
       "      <th>instruction</th>\n",
       "      <th>input</th>\n",
       "      <th>output</th>\n",
       "    </tr>\n",
       "  </thead>\n",
       "  <tbody>\n",
       "    <tr>\n",
       "      <th>count</th>\n",
       "      <td>549326</td>\n",
       "      <td>549326</td>\n",
       "      <td>549326</td>\n",
       "    </tr>\n",
       "    <tr>\n",
       "      <th>unique</th>\n",
       "      <td>1</td>\n",
       "      <td>544995</td>\n",
       "      <td>549286</td>\n",
       "    </tr>\n",
       "    <tr>\n",
       "      <th>top</th>\n",
       "      <td>現在你是一名專業的中醫醫生，請用你的專業知識提供詳盡而清晰的關於中醫問題的回答。</td>\n",
       "      <td>平時無不適，昨天晚上聚餐，喝了些酒，有點高了；早上感覺有些頭暈，肚子也難受，上了幾次廁所，便...</td>\n",
       "      <td>我不太明白您的意思，請問您需要什麼幫助嗎？</td>\n",
       "    </tr>\n",
       "    <tr>\n",
       "      <th>freq</th>\n",
       "      <td>549326</td>\n",
       "      <td>26</td>\n",
       "      <td>5</td>\n",
       "    </tr>\n",
       "  </tbody>\n",
       "</table>\n",
       "</div>"
      ],
      "text/plain": [
       "                                     instruction  \\\n",
       "count                                     549326   \n",
       "unique                                         1   \n",
       "top     現在你是一名專業的中醫醫生，請用你的專業知識提供詳盡而清晰的關於中醫問題的回答。   \n",
       "freq                                      549326   \n",
       "\n",
       "                                                    input  \\\n",
       "count                                              549326   \n",
       "unique                                             544995   \n",
       "top     平時無不適，昨天晚上聚餐，喝了些酒，有點高了；早上感覺有些頭暈，肚子也難受，上了幾次廁所，便...   \n",
       "freq                                                   26   \n",
       "\n",
       "                       output  \n",
       "count                  549326  \n",
       "unique                 549286  \n",
       "top     我不太明白您的意思，請問您需要什麼幫助嗎？  \n",
       "freq                        5  "
      ]
     },
     "execution_count": 4,
     "metadata": {},
     "output_type": "execute_result"
    }
   ],
   "source": [
    "# 所有資料內容\n",
    "import pandas as pd\n",
    "df = pd. read_json ( 'data.json' )\n",
    "df.describe()"
   ]
  },
  {
   "cell_type": "code",
   "execution_count": 5,
   "metadata": {
    "tags": []
   },
   "outputs": [
    {
     "data": {
      "text/html": [
       "<div>\n",
       "<style scoped>\n",
       "    .dataframe tbody tr th:only-of-type {\n",
       "        vertical-align: middle;\n",
       "    }\n",
       "\n",
       "    .dataframe tbody tr th {\n",
       "        vertical-align: top;\n",
       "    }\n",
       "\n",
       "    .dataframe thead th {\n",
       "        text-align: right;\n",
       "    }\n",
       "</style>\n",
       "<table border=\"1\" class=\"dataframe\">\n",
       "  <thead>\n",
       "    <tr style=\"text-align: right;\">\n",
       "      <th></th>\n",
       "      <th>instruction</th>\n",
       "      <th>input</th>\n",
       "      <th>output</th>\n",
       "    </tr>\n",
       "  </thead>\n",
       "  <tbody>\n",
       "    <tr>\n",
       "      <th>0</th>\n",
       "      <td>現在你是一名專業的中醫醫生，請用你的專業知識提供詳盡而清晰的關於中醫問題的回答。</td>\n",
       "      <td>這段時間去上廁所本來想小便的可是每次都會拉大便</td>\n",
       "      <td>這可能是因為你的飲食習慣或者消化系統的問題導致的。建議你試著調整一下飲食，增加膳食纖維的攝入...</td>\n",
       "    </tr>\n",
       "    <tr>\n",
       "      <th>1</th>\n",
       "      <td>現在你是一名專業的中醫醫生，請用你的專業知識提供詳盡而清晰的關於中醫問題的回答。</td>\n",
       "      <td>醫生呀！我剛被查出得了白癜風，不知道初期治療需要多少錢？</td>\n",
       "      <td>白癜風的治療費用因個體差異和治療方案的不同而有所差異。初期治療主要以口服藥物和外用藥物為主，...</td>\n",
       "    </tr>\n",
       "    <tr>\n",
       "      <th>2</th>\n",
       "      <td>現在你是一名專業的中醫醫生，請用你的專業知識提供詳盡而清晰的關於中醫問題的回答。</td>\n",
       "      <td>男朋友31歲，前列腺B超資料是34*48*31，，包膜完整平滑，內部回聲均勻，未見明顯異常回...</td>\n",
       "      <td>根據您提供的資料，男朋友的前列腺B超結果表明前列腺肥大增生，但是並未出現明顯異常回聲，所以情...</td>\n",
       "    </tr>\n",
       "    <tr>\n",
       "      <th>3</th>\n",
       "      <td>現在你是一名專業的中醫醫生，請用你的專業知識提供詳盡而清晰的關於中醫問題的回答。</td>\n",
       "      <td>左大腿脾經內側疼痛大概有6寸左右，有幾天了，不知道怎麼導致的，表面沒什麼就是一按就刺痛，這怎麼回事</td>\n",
       "      <td>左大腿內側疼痛可能是由多種因素引起的，例如：\\n\\n1. 肌肉勞損或拉傷：如果您最近進行了劇...</td>\n",
       "    </tr>\n",
       "    <tr>\n",
       "      <th>4</th>\n",
       "      <td>現在你是一名專業的中醫醫生，請用你的專業知識提供詳盡而清晰的關於中醫問題的回答。</td>\n",
       "      <td>你好，全身沒勁，沒精神，吃不下飯，只想睡覺，是什麼情況</td>\n",
       "      <td>這些症狀可能是身體出現了一些問題，建議您去看醫生進行檢查。這些症狀可能和許多疾病有關，比如抑...</td>\n",
       "    </tr>\n",
       "    <tr>\n",
       "      <th>...</th>\n",
       "      <td>...</td>\n",
       "      <td>...</td>\n",
       "      <td>...</td>\n",
       "    </tr>\n",
       "    <tr>\n",
       "      <th>9995</th>\n",
       "      <td>現在你是一名專業的中醫醫生，請用你的專業知識提供詳盡而清晰的關於中醫問題的回答。</td>\n",
       "      <td>3個月寶寶一個星期才拉一次大便，純母乳餵養。去醫院檢查拍片醫生說是腸子堵塞說是用點開塞露。不...</td>\n",
       "      <td>對於純母乳餵養的寶寶來說，每天排便次數和大便的性狀可能會有所不同，但是長時間沒有大便可能會引...</td>\n",
       "    </tr>\n",
       "    <tr>\n",
       "      <th>9996</th>\n",
       "      <td>現在你是一名專業的中醫醫生，請用你的專業知識提供詳盡而清晰的關於中醫問題的回答。</td>\n",
       "      <td>現在血糖高，37周，孩子臍帶繞頸一週，胎動減弱。有宮縮，我該怎麼辦</td>\n",
       "      <td>如果你有宮縮和減弱的胎動，建議你立即就醫。你可以聯絡你的產科醫生或撥打急救電話。如果你的血糖...</td>\n",
       "    </tr>\n",
       "    <tr>\n",
       "      <th>9997</th>\n",
       "      <td>現在你是一名專業的中醫醫生，請用你的專業知識提供詳盡而清晰的關於中醫問題的回答。</td>\n",
       "      <td>你好。醫生，我是右大腿被車撞斷了，上了鋼板了，我已經和我老婆發生了性生活，請問一下，對腿有影...</td>\n",
       "      <td>首先，性生活通常不會對腿的康復產生直接的影響。但是，如果你感到疼痛或不適，那麼最好停止性生活...</td>\n",
       "    </tr>\n",
       "    <tr>\n",
       "      <th>9998</th>\n",
       "      <td>現在你是一名專業的中醫醫生，請用你的專業知識提供詳盡而清晰的關於中醫問題的回答。</td>\n",
       "      <td>我的牙齒被蛀牙了一半拔掉了一半自己掉了裡面的肉能不能拔掉</td>\n",
       "      <td>作為智慧助手，我建議您諮詢一下牙醫的意見。如果您的牙齒已經被蛀牙了一半，那麼最好的選擇是去看...</td>\n",
       "    </tr>\n",
       "    <tr>\n",
       "      <th>9999</th>\n",
       "      <td>現在你是一名專業的中醫醫生，請用你的專業知識提供詳盡而清晰的關於中醫問題的回答。</td>\n",
       "      <td>睡著後一小時左右突然驚醒害怕，神情緊張，手涼，心跳加快，張牙舞爪，跑來跑去，意識模糊，醒後不能回憶</td>\n",
       "      <td>這種情況可能是夜驚症（又稱夢魘）的一種表現。夜驚症是一種常見的睡眠障礙，多發生於兒童和青少年...</td>\n",
       "    </tr>\n",
       "  </tbody>\n",
       "</table>\n",
       "<p>10000 rows × 3 columns</p>\n",
       "</div>"
      ],
      "text/plain": [
       "                                   instruction  \\\n",
       "0     現在你是一名專業的中醫醫生，請用你的專業知識提供詳盡而清晰的關於中醫問題的回答。   \n",
       "1     現在你是一名專業的中醫醫生，請用你的專業知識提供詳盡而清晰的關於中醫問題的回答。   \n",
       "2     現在你是一名專業的中醫醫生，請用你的專業知識提供詳盡而清晰的關於中醫問題的回答。   \n",
       "3     現在你是一名專業的中醫醫生，請用你的專業知識提供詳盡而清晰的關於中醫問題的回答。   \n",
       "4     現在你是一名專業的中醫醫生，請用你的專業知識提供詳盡而清晰的關於中醫問題的回答。   \n",
       "...                                        ...   \n",
       "9995  現在你是一名專業的中醫醫生，請用你的專業知識提供詳盡而清晰的關於中醫問題的回答。   \n",
       "9996  現在你是一名專業的中醫醫生，請用你的專業知識提供詳盡而清晰的關於中醫問題的回答。   \n",
       "9997  現在你是一名專業的中醫醫生，請用你的專業知識提供詳盡而清晰的關於中醫問題的回答。   \n",
       "9998  現在你是一名專業的中醫醫生，請用你的專業知識提供詳盡而清晰的關於中醫問題的回答。   \n",
       "9999  現在你是一名專業的中醫醫生，請用你的專業知識提供詳盡而清晰的關於中醫問題的回答。   \n",
       "\n",
       "                                                  input  \\\n",
       "0                               這段時間去上廁所本來想小便的可是每次都會拉大便   \n",
       "1                          醫生呀！我剛被查出得了白癜風，不知道初期治療需要多少錢？   \n",
       "2     男朋友31歲，前列腺B超資料是34*48*31，，包膜完整平滑，內部回聲均勻，未見明顯異常回...   \n",
       "3     左大腿脾經內側疼痛大概有6寸左右，有幾天了，不知道怎麼導致的，表面沒什麼就是一按就刺痛，這怎麼回事   \n",
       "4                           你好，全身沒勁，沒精神，吃不下飯，只想睡覺，是什麼情況   \n",
       "...                                                 ...   \n",
       "9995  3個月寶寶一個星期才拉一次大便，純母乳餵養。去醫院檢查拍片醫生說是腸子堵塞說是用點開塞露。不...   \n",
       "9996                  現在血糖高，37周，孩子臍帶繞頸一週，胎動減弱。有宮縮，我該怎麼辦   \n",
       "9997  你好。醫生，我是右大腿被車撞斷了，上了鋼板了，我已經和我老婆發生了性生活，請問一下，對腿有影...   \n",
       "9998                       我的牙齒被蛀牙了一半拔掉了一半自己掉了裡面的肉能不能拔掉   \n",
       "9999  睡著後一小時左右突然驚醒害怕，神情緊張，手涼，心跳加快，張牙舞爪，跑來跑去，意識模糊，醒後不能回憶   \n",
       "\n",
       "                                                 output  \n",
       "0     這可能是因為你的飲食習慣或者消化系統的問題導致的。建議你試著調整一下飲食，增加膳食纖維的攝入...  \n",
       "1     白癜風的治療費用因個體差異和治療方案的不同而有所差異。初期治療主要以口服藥物和外用藥物為主，...  \n",
       "2     根據您提供的資料，男朋友的前列腺B超結果表明前列腺肥大增生，但是並未出現明顯異常回聲，所以情...  \n",
       "3     左大腿內側疼痛可能是由多種因素引起的，例如：\\n\\n1. 肌肉勞損或拉傷：如果您最近進行了劇...  \n",
       "4     這些症狀可能是身體出現了一些問題，建議您去看醫生進行檢查。這些症狀可能和許多疾病有關，比如抑...  \n",
       "...                                                 ...  \n",
       "9995  對於純母乳餵養的寶寶來說，每天排便次數和大便的性狀可能會有所不同，但是長時間沒有大便可能會引...  \n",
       "9996  如果你有宮縮和減弱的胎動，建議你立即就醫。你可以聯絡你的產科醫生或撥打急救電話。如果你的血糖...  \n",
       "9997  首先，性生活通常不會對腿的康復產生直接的影響。但是，如果你感到疼痛或不適，那麼最好停止性生活...  \n",
       "9998  作為智慧助手，我建議您諮詢一下牙醫的意見。如果您的牙齒已經被蛀牙了一半，那麼最好的選擇是去看...  \n",
       "9999  這種情況可能是夜驚症（又稱夢魘）的一種表現。夜驚症是一種常見的睡眠障礙，多發生於兒童和青少年...  \n",
       "\n",
       "[10000 rows x 3 columns]"
      ]
     },
     "execution_count": 5,
     "metadata": {},
     "output_type": "execute_result"
    }
   ],
   "source": [
    "# 取出前一萬筆, 並儲存\n",
    "import pandas as pd\n",
    "df = pd. read_json ( 'data.json' )\n",
    "dataset_df_10k = df[:10000]\n",
    "dataset_df_10k.to_json('LLaMA-Factory/data/medicalQA_10k.json', orient='records')\n",
    "dataset_df_10k"
   ]
  },
  {
   "cell_type": "code",
   "execution_count": 8,
   "metadata": {
    "tags": []
   },
   "outputs": [
    {
     "name": "stdout",
     "output_type": "stream",
     "text": [
      "0db55d43479e101e542f4cd719703ece3a65cc9d  LLaMA-Factory/data/medicalQA_10k.json\n"
     ]
    }
   ],
   "source": [
    "# sha1sum , open LLaMA-Factory/data/dataset_info.json\n",
    "!sha1sum LLaMA-Factory/data/medicalQA_10k.json"
   ]
  },
  {
   "cell_type": "markdown",
   "metadata": {
    "tags": []
   },
   "source": [
    "```\n",
    "\"medical\": {\n",
    "    \"file_name\": \"medicalQA_10k.json\",\n",
    "    \"file_sha1\": \"0db55d43479e101e542f4cd719703ece3a65cc9d  \",\n",
    "    \"columns\": {\n",
    "      \"prompt\": \"instruction\",\n",
    "      \"query\": \"input\",\n",
    "      \"response\": \"output\"\n",
    "    }\n",
    "  },\n",
    "```"
   ]
  },
  {
   "cell_type": "code",
   "execution_count": null,
   "metadata": {},
   "outputs": [],
   "source": []
  }
 ],
 "metadata": {
  "accelerator": "GPU",
  "colab": {
   "provenance": []
  },
  "kernelspec": {
   "display_name": "Image_S-work-LlamaFactory_c00cjz00_cuda11.8_pytorch_2.1.2-cuda11.8-cudnn8-devel-llama_factory",
   "language": "python",
   "name": "s-work-llamafactory_c00cjz00_cuda11.8_pytorch_2.1.2-cuda11.8-cudnn8-devel-llama_factory"
  },
  "language_info": {
   "codemirror_mode": {
    "name": "ipython",
    "version": 3
   },
   "file_extension": ".py",
   "mimetype": "text/x-python",
   "name": "python",
   "nbconvert_exporter": "python",
   "pygments_lexer": "ipython3",
   "version": "3.10.13"
  }
 },
 "nbformat": 4,
 "nbformat_minor": 4
}
